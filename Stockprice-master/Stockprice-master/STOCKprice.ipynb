{
  "nbformat": 4,
  "nbformat_minor": 0,
  "metadata": {
    "colab": {
      "name": "STOCKprice.ipynb",
      "provenance": []
    },
    "kernelspec": {
      "name": "python3",
      "display_name": "Python 3"
    }
  },
  "cells": [
    {
      "cell_type": "code",
      "metadata": {
        "id": "h7Ugrli0mpbb",
        "colab_type": "code",
        "colab": {}
      },
      "source": [
        "import pandas as pd\n",
        "import matplotlib.pyplot as plt\n",
        "import numpy as np"
      ],
      "execution_count": 0,
      "outputs": []
    },
    {
      "cell_type": "code",
      "metadata": {
        "id": "YHiXn23jpoUZ",
        "colab_type": "code",
        "colab": {}
      },
      "source": [
        "data=pd.read_csv(\"/content/AAPL.csv\",usecols=[1])"
      ],
      "execution_count": 0,
      "outputs": []
    },
    {
      "cell_type": "code",
      "metadata": {
        "id": "OTyF6fpQv0hQ",
        "colab_type": "code",
        "colab": {}
      },
      "source": [
        "dataset = data.values\n",
        "dataset = dataset.astype('float32')"
      ],
      "execution_count": 0,
      "outputs": []
    },
    {
      "cell_type": "code",
      "metadata": {
        "id": "wns6Lk3Jv7CW",
        "colab_type": "code",
        "colab": {
          "base_uri": "https://localhost:8080/",
          "height": 268
        },
        "outputId": "c594fce8-1cf5-45c1-ef55-21fe40f21640"
      },
      "source": [
        "plt.plot(data[\"Open\"])\n",
        "plt.show()"
      ],
      "execution_count": 14,
      "outputs": [
        {
          "output_type": "display_data",
          "data": {
            "image/png": "[encoded data removed]",
            "text/plain": [
              "<Figure size 432x288 with 1 Axes>"
            ]
          },
          "metadata": {
            "tags": [],
            "needs_background": "light"
          }
        }
      ]
    },
    {
      "cell_type": "code",
      "metadata": {
        "id": "7vGQiIGGwSgf",
        "colab_type": "code",
        "colab": {}
      },
      "source": [
        "from sklearn.preprocessing import MinMaxScaler"
      ],
      "execution_count": 0,
      "outputs": []
    },
    {
      "cell_type": "code",
      "metadata": {
        "id": "uFVEyzAExDfF",
        "colab_type": "code",
        "colab": {}
      },
      "source": [
        "scaler=MinMaxScaler(feature_range=(0,1))\n",
        "dataset=scaler.fit_transform(dataset)"
      ],
      "execution_count": 0,
      "outputs": []
    },
    {
      "cell_type": "code",
      "metadata": {
        "id": "uxGp_25j6A6t",
        "colab_type": "code",
        "colab": {
          "base_uri": "https://localhost:8080/",
          "height": 34
        },
        "outputId": "a00e8a22-ea5d-47d4-9e32-49ce5a46a0fe"
      },
      "source": [
        "type(dataset)"
      ],
      "execution_count": 97,
      "outputs": [
        {
          "output_type": "execute_result",
          "data": {
            "text/plain": [
              "numpy.ndarray"
            ]
          },
          "metadata": {
            "tags": []
          },
          "execution_count": 97
        }
      ]
    },
    {
      "cell_type": "code",
      "metadata": {
        "id": "4aGVXUisycWV",
        "colab_type": "code",
        "colab": {
          "base_uri": "https://localhost:8080/",
          "height": 285
        },
        "outputId": "084d31b9-fd6e-4418-baea-4574cb3247e6"
      },
      "source": [
        "data[\"Open\"].plot.box()"
      ],
      "execution_count": 30,
      "outputs": [
        {
          "output_type": "execute_result",
          "data": {
            "text/plain": [
              "<matplotlib.axes._subplots.AxesSubplot at 0x7f24bc6608d0>"
            ]
          },
          "metadata": {
            "tags": []
          },
          "execution_count": 30
        },
        {
          "output_type": "display_data",
          "data": {
            "image/png": "[encoded data removed]",
            "text/plain": [
              "<Figure size 432x288 with 1 Axes>"
            ]
          },
          "metadata": {
            "tags": [],
            "needs_background": "light"
          }
        }
      ]
    },
    {
      "cell_type": "code",
      "metadata": {
        "id": "BE0CmT_gxkRX",
        "colab_type": "code",
        "colab": {}
      },
      "source": [
        "def create_dataset(dataset, look_back=0):\n",
        "\tdataX, dataY = [], []\n",
        "\tfor i in range(look_back,len(dataset)):\n",
        "\t\ta = dataset[i-look_back:i]\n",
        "\t\tdataX.append(a)\n",
        "\t\tdataY.append(dataset[i])\n",
        "\treturn np.array(dataX), np.array(dataY)"
      ],
      "execution_count": 0,
      "outputs": []
    },
    {
      "cell_type": "code",
      "metadata": {
        "id": "8jWh7_0Zxx0Q",
        "colab_type": "code",
        "colab": {}
      },
      "source": [
        "X,y = create_dataset(dataset,look_back=60)"
      ],
      "execution_count": 0,
      "outputs": []
    },
    {
      "cell_type": "code",
      "metadata": {
        "id": "sJ4DvRYsx_RM",
        "colab_type": "code",
        "colab": {}
      },
      "source": [
        "X=X.reshape(X.shape[0],60,1)"
      ],
      "execution_count": 0,
      "outputs": []
    },
    {
      "cell_type": "code",
      "metadata": {
        "id": "oD272ATfyMkb",
        "colab_type": "code",
        "colab": {
          "base_uri": "https://localhost:8080/",
          "height": 34
        },
        "outputId": "d32d7f7a-ba56-4ffd-ccf8-6acabaad99b7"
      },
      "source": [
        "X.shape"
      ],
      "execution_count": 48,
      "outputs": [
        {
          "output_type": "execute_result",
          "data": {
            "text/plain": [
              "(1199, 60, 1)"
            ]
          },
          "metadata": {
            "tags": []
          },
          "execution_count": 48
        }
      ]
    },
    {
      "cell_type": "code",
      "metadata": {
        "id": "OQaAP90wyV2a",
        "colab_type": "code",
        "colab": {}
      },
      "source": [
        "from keras.models import Sequential\n",
        "from keras.layers import Dense\n",
        "from keras.layers import LSTM\n",
        "from keras.layers import Dropout"
      ],
      "execution_count": 0,
      "outputs": []
    },
    {
      "cell_type": "code",
      "metadata": {
        "id": "h33xcL6RypwK",
        "colab_type": "code",
        "colab": {}
      },
      "source": [
        "model = Sequential()\n",
        "\n",
        "model.add(LSTM(units=50, return_sequences=True, input_shape=(60, 1)))\n",
        "model.add(Dropout(0.2))\n",
        "\n",
        "model.add(LSTM(units=50, return_sequences=True))\n",
        "model.add(Dropout(0.2))\n",
        "\n",
        "model.add(LSTM(units=50, return_sequences=True))\n",
        "model.add(Dropout(0.2))\n",
        "\n",
        "model.add(LSTM(units=50))\n",
        "model.add(Dropout(0.2))\n",
        "\n",
        "model.add(Dense(1))"
      ],
      "execution_count": 0,
      "outputs": []
    },
    {
      "cell_type": "code",
      "metadata": {
        "id": "Ax44GWXAzggW",
        "colab_type": "code",
        "colab": {}
      },
      "source": [
        "#loss=tf.keras.losses.Huber()"
      ],
      "execution_count": 0,
      "outputs": []
    },
    {
      "cell_type": "code",
      "metadata": {
        "id": "hra6EH8Ty99_",
        "colab_type": "code",
        "colab": {}
      },
      "source": [
        "model.compile(optimizer = 'adam', loss = 'mean_squared_error')"
      ],
      "execution_count": 0,
      "outputs": []
    },
    {
      "cell_type": "code",
      "metadata": {
        "id": "kAfsb6LNzj3B",
        "colab_type": "code",
        "colab": {
          "base_uri": "https://localhost:8080/",
          "height": 454
        },
        "outputId": "e253de4a-f01a-4e6c-f21c-ae9218d0312e"
      },
      "source": [
        "model.summary()"
      ],
      "execution_count": 52,
      "outputs": [
        {
          "output_type": "stream",
          "text": [
            "Model: \"sequential_5\"\n",
            "_________________________________________________________________\n",
            "Layer (type)                 Output Shape              Param #   \n",
            "=================================================================\n",
            "lstm_10 (LSTM)               (None, 60, 50)            10400     \n",
            "_________________________________________________________________\n",
            "dropout_9 (Dropout)          (None, 60, 50)            0         \n",
            "_________________________________________________________________\n",
            "lstm_11 (LSTM)               (None, 60, 50)            20200     \n",
            "_________________________________________________________________\n",
            "dropout_10 (Dropout)         (None, 60, 50)            0         \n",
            "_________________________________________________________________\n",
            "lstm_12 (LSTM)               (None, 60, 50)            20200     \n",
            "_________________________________________________________________\n",
            "dropout_11 (Dropout)         (None, 60, 50)            0         \n",
            "_________________________________________________________________\n",
            "lstm_13 (LSTM)               (None, 50)                20200     \n",
            "_________________________________________________________________\n",
            "dropout_12 (Dropout)         (None, 50)                0         \n",
            "_________________________________________________________________\n",
            "dense_3 (Dense)              (None, 1)                 51        \n",
            "=================================================================\n",
            "Total params: 71,051\n",
            "Trainable params: 71,051\n",
            "Non-trainable params: 0\n",
            "_________________________________________________________________\n"
          ],
          "name": "stdout"
        }
      ]
    },
    {
      "cell_type": "code",
      "metadata": {
        "id": "waScZVXlzlq9",
        "colab_type": "code",
        "colab": {
          "base_uri": "https://localhost:8080/",
          "height": 370
        },
        "outputId": "7401e98b-71f4-4de1-c314-8571d2610c85"
      },
      "source": [
        "model.fit(X,y, epochs = 10, batch_size = 32)"
      ],
      "execution_count": 53,
      "outputs": [
        {
          "output_type": "stream",
          "text": [
            "Epoch 1/10\n",
            "1199/1199 [==============================] - 6s 5ms/step - loss: 0.0357\n",
            "Epoch 2/10\n",
            "1199/1199 [==============================] - 5s 4ms/step - loss: 0.0050\n",
            "Epoch 3/10\n",
            "1199/1199 [==============================] - 5s 4ms/step - loss: 0.0045\n",
            "Epoch 4/10\n",
            "1199/1199 [==============================] - 5s 4ms/step - loss: 0.0048\n",
            "Epoch 5/10\n",
            "1199/1199 [==============================] - 5s 4ms/step - loss: 0.0049\n",
            "Epoch 6/10\n",
            "1199/1199 [==============================] - 5s 4ms/step - loss: 0.0047\n",
            "Epoch 7/10\n",
            "1199/1199 [==============================] - 5s 4ms/step - loss: 0.0041\n",
            "Epoch 8/10\n",
            "1199/1199 [==============================] - 5s 4ms/step - loss: 0.0040\n",
            "Epoch 9/10\n",
            "1199/1199 [==============================] - 5s 4ms/step - loss: 0.0042\n",
            "Epoch 10/10\n",
            "1199/1199 [==============================] - 5s 4ms/step - loss: 0.0035\n"
          ],
          "name": "stdout"
        },
        {
          "output_type": "execute_result",
          "data": {
            "text/plain": [
              "<keras.callbacks.callbacks.History at 0x7f2473c00438>"
            ]
          },
          "metadata": {
            "tags": []
          },
          "execution_count": 53
        }
      ]
    },
    {
      "cell_type": "code",
      "metadata": {
        "id": "7qmyy6tUzsL8",
        "colab_type": "code",
        "colab": {}
      },
      "source": [
        "tdata=pd.read_csv(\"/content/AAPL (1).csv\",usecols=[1])"
      ],
      "execution_count": 0,
      "outputs": []
    },
    {
      "cell_type": "code",
      "metadata": {
        "id": "S2PcnkYg0KYe",
        "colab_type": "code",
        "colab": {
          "base_uri": "https://localhost:8080/",
          "height": 34
        },
        "outputId": "c2a11716-b407-4168-b06d-598edf3929f2"
      },
      "source": [
        "tdata.columns"
      ],
      "execution_count": 55,
      "outputs": [
        {
          "output_type": "execute_result",
          "data": {
            "text/plain": [
              "Index(['Open'], dtype='object')"
            ]
          },
          "metadata": {
            "tags": []
          },
          "execution_count": 55
        }
      ]
    },
    {
      "cell_type": "code",
      "metadata": {
        "id": "eVpcuF5y1wo5",
        "colab_type": "code",
        "colab": {}
      },
      "source": [
        "apple_total = pd.concat((data['Open'], tdata['Open']), axis=0)"
      ],
      "execution_count": 0,
      "outputs": []
    },
    {
      "cell_type": "code",
      "metadata": {
        "id": "UFmUD-n22gYi",
        "colab_type": "code",
        "colab": {}
      },
      "source": [
        "test_inputs = apple_total[len(apple_total) - len(tdata) - 60:]"
      ],
      "execution_count": 0,
      "outputs": []
    },
    {
      "cell_type": "code",
      "metadata": {
        "id": "ywP9gFsx2nhZ",
        "colab_type": "code",
        "colab": {
          "base_uri": "https://localhost:8080/",
          "height": 286
        },
        "outputId": "8cf0d2cd-b052-4e0f-9869-7eedfaf45b53"
      },
      "source": [
        "(test_inputs).values"
      ],
      "execution_count": 76,
      "outputs": [
        {
          "output_type": "execute_result",
          "data": {
            "text/plain": [
              "array([154.179993, 154.970001, 155.809998, 156.059998, 155.970001,\n",
              "       156.350006, 156.729996, 157.899994, 159.779999, 160.419998,\n",
              "       156.75    , 156.610001, 156.889999, 156.289993, 156.910004,\n",
              "       157.229996, 159.289993, 163.889999, 167.899994, 169.869995,\n",
              "       166.600006, 174.      , 172.369995, 173.910004, 174.660004,\n",
              "       175.110001, 175.110001, 173.5     , 173.039993, 169.970001,\n",
              "       171.179993, 171.039993, 170.289993, 170.779999, 173.360001,\n",
              "       175.100006, 175.050003, 174.300003, 172.630005, 170.429993,\n",
              "       169.949997, 172.479996, 169.059998, 167.5     , 169.029999,\n",
              "       170.490005, 169.199997, 172.149994, 172.5     , 172.399994,\n",
              "       173.630005, 174.880005, 175.029999, 174.869995, 174.169998,\n",
              "       174.679993, 170.800003, 170.100006, 171.      , 170.520004,\n",
              "       170.160004, 172.529999, 172.539993, 173.440002, 174.350006,\n",
              "       174.550003, 173.160004, 174.589996, 176.179993, 177.899994,\n",
              "       176.149994, 179.369995, 178.610001, 177.300003, 177.300003,\n",
              "       177.25    , 174.509995, 172.      , 170.160004, 165.529999])"
            ]
          },
          "metadata": {
            "tags": []
          },
          "execution_count": 76
        }
      ]
    },
    {
      "cell_type": "code",
      "metadata": {
        "id": "Bo9XoQH50Luf",
        "colab_type": "code",
        "colab": {}
      },
      "source": [
        "tdataset = test_inputs.values\n",
        "tdataset = tdataset.astype('float32')"
      ],
      "execution_count": 0,
      "outputs": []
    },
    {
      "cell_type": "code",
      "metadata": {
        "id": "AZPHFDoX5-uD",
        "colab_type": "code",
        "colab": {}
      },
      "source": [
        "tdataset=tdataset.reshape(80,1)"
      ],
      "execution_count": 0,
      "outputs": []
    },
    {
      "cell_type": "code",
      "metadata": {
        "id": "7fheNxGl0RbN",
        "colab_type": "code",
        "colab": {}
      },
      "source": [
        "scaler=MinMaxScaler(feature_range=(0,1))\n",
        "tdataset=scaler.fit_transform(tdataset)"
      ],
      "execution_count": 0,
      "outputs": []
    },
    {
      "cell_type": "code",
      "metadata": {
        "id": "Z4r7VgpY4dTZ",
        "colab_type": "code",
        "colab": {
          "base_uri": "https://localhost:8080/",
          "height": 34
        },
        "outputId": "32d96b1b-568e-4722-c726-91ee17332a6a"
      },
      "source": [
        "len(tdataset)"
      ],
      "execution_count": 103,
      "outputs": [
        {
          "output_type": "execute_result",
          "data": {
            "text/plain": [
              "80"
            ]
          },
          "metadata": {
            "tags": []
          },
          "execution_count": 103
        }
      ]
    },
    {
      "cell_type": "code",
      "metadata": {
        "id": "RsF5M3xQ0XzV",
        "colab_type": "code",
        "colab": {}
      },
      "source": [
        "Xt,yt = create_dataset(tdataset,look_back=60)"
      ],
      "execution_count": 0,
      "outputs": []
    },
    {
      "cell_type": "code",
      "metadata": {
        "id": "3QZwO_OB4Pil",
        "colab_type": "code",
        "colab": {}
      },
      "source": [
        "Xt=Xt.reshape(Xt.shape[0],60,1)"
      ],
      "execution_count": 0,
      "outputs": []
    },
    {
      "cell_type": "code",
      "metadata": {
        "id": "EIDnbH0J4160",
        "colab_type": "code",
        "colab": {}
      },
      "source": [
        "pred=model.predict(Xt)"
      ],
      "execution_count": 0,
      "outputs": []
    },
    {
      "cell_type": "code",
      "metadata": {
        "id": "bcEpVeMc5gQJ",
        "colab_type": "code",
        "colab": {
          "base_uri": "https://localhost:8080/",
          "height": 34
        },
        "outputId": "c1207fd4-53df-4c08-bca4-3a1ae3b32e71"
      },
      "source": [
        "max(pred)"
      ],
      "execution_count": 107,
      "outputs": [
        {
          "output_type": "execute_result",
          "data": {
            "text/plain": [
              "array([0.8247867], dtype=float32)"
            ]
          },
          "metadata": {
            "tags": []
          },
          "execution_count": 107
        }
      ]
    },
    {
      "cell_type": "code",
      "metadata": {
        "id": "LV5PaTcP5Yx8",
        "colab_type": "code",
        "colab": {}
      },
      "source": [
        "yhat = scaler.inverse_transform(pred)"
      ],
      "execution_count": 0,
      "outputs": []
    },
    {
      "cell_type": "code",
      "metadata": {
        "id": "7gMzLj9k5kOd",
        "colab_type": "code",
        "colab": {
          "base_uri": "https://localhost:8080/",
          "height": 34
        },
        "outputId": "6f144c49-8e4d-41cd-9758-145b785051cc"
      },
      "source": [
        "max(yhat)"
      ],
      "execution_count": 114,
      "outputs": [
        {
          "output_type": "execute_result",
          "data": {
            "text/plain": [
              "array([174.95638], dtype=float32)"
            ]
          },
          "metadata": {
            "tags": []
          },
          "execution_count": 114
        }
      ]
    },
    {
      "cell_type": "code",
      "metadata": {
        "id": "JJfLoPy662PN",
        "colab_type": "code",
        "colab": {}
      },
      "source": [
        "yt = scaler.inverse_transform(yt)"
      ],
      "execution_count": 0,
      "outputs": []
    },
    {
      "cell_type": "code",
      "metadata": {
        "id": "mYx6qA0S5CVy",
        "colab_type": "code",
        "colab": {
          "base_uri": "https://localhost:8080/",
          "height": 268
        },
        "outputId": "30e741e3-3513-4008-9957-405d28e62ae1"
      },
      "source": [
        "plt.plot(yt)\n",
        "plt.show()"
      ],
      "execution_count": 116,
      "outputs": [
        {
          "output_type": "display_data",
          "data": {
            "image/png": "[encoded data removed]",
            "text/plain": [
              "<Figure size 432x288 with 1 Axes>"
            ]
          },
          "metadata": {
            "tags": [],
            "needs_background": "light"
          }
        }
      ]
    },
    {
      "cell_type": "code",
      "metadata": {
        "id": "9r8ofpL55MQV",
        "colab_type": "code",
        "colab": {
          "base_uri": "https://localhost:8080/",
          "height": 268
        },
        "outputId": "e1cb5b2d-2d64-49a9-8414-b7758781f96f"
      },
      "source": [
        "plt.plot(yt)\n",
        "plt.plot(yhat)\n",
        "plt.show()"
      ],
      "execution_count": 117,
      "outputs": [
        {
          "output_type": "display_data",
          "data": {
            "image/png": "[encoded data removed]",
            "text/plain": [
              "<Figure size 432x288 with 1 Axes>"
            ]
          },
          "metadata": {
            "tags": [],
            "needs_background": "light"
          }
        }
      ]
    },
    {
      "cell_type": "code",
      "metadata": {
        "id": "7a-BHHry6o6I",
        "colab_type": "code",
        "colab": {}
      },
      "source": [
        "import tensorflow as tf\n"
      ],
      "execution_count": 0,
      "outputs": []
    },
    {
      "cell_type": "code",
      "metadata": {
        "id": "44HbbLug5TB6",
        "colab_type": "code",
        "colab": {
          "base_uri": "https://localhost:8080/",
          "height": 34
        },
        "outputId": "08541041-636f-4055-d19c-f7d79922ae85"
      },
      "source": [
        "mae = tf.keras.losses.MeanAbsoluteError()\n",
        "mae(yt,yhat).numpy()"
      ],
      "execution_count": 118,
      "outputs": [
        {
          "output_type": "execute_result",
          "data": {
            "text/plain": [
              "3.2593963"
            ]
          },
          "metadata": {
            "tags": []
          },
          "execution_count": 118
        }
      ]
    },
    {
      "cell_type": "code",
      "metadata": {
        "id": "TXA0kJma6neS",
        "colab_type": "code",
        "colab": {}
      },
      "source": [
        ""
      ],
      "execution_count": 0,
      "outputs": []
    }
  ]
}