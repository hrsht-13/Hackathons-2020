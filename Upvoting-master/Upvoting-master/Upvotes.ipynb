{
  "nbformat": 4,
  "nbformat_minor": 0,
  "metadata": {
    "colab": {
      "name": "Upvotes.ipynb",
      "provenance": []
    },
    "kernelspec": {
      "name": "python3",
      "display_name": "Python 3"
    }
  },
  "cells": [
    {
      "cell_type": "code",
      "metadata": {
        "id": "ig1BGJW1XWyC",
        "colab_type": "code",
        "colab": {}
      },
      "source": [
        "import pandas as pd\n",
        "import seaborn as sns"
      ],
      "execution_count": 0,
      "outputs": []
    },
    {
      "cell_type": "code",
      "metadata": {
        "id": "pO7Yx9ByY2cq",
        "colab_type": "code",
        "colab": {}
      },
      "source": [
        "test=pd.read_csv(\"/content/test_8i3B3FC.csv\")"
      ],
      "execution_count": 0,
      "outputs": []
    },
    {
      "cell_type": "code",
      "metadata": {
        "id": "JSzUBgO6Y6Gm",
        "colab_type": "code",
        "colab": {
          "base_uri": "https://localhost:8080/",
          "height": 134
        },
        "outputId": "56017dfb-8f84-48d8-86f0-e982fe88355b"
      },
      "source": [
        "test.isnull().sum()"
      ],
      "execution_count": 8,
      "outputs": [
        {
          "output_type": "execute_result",
          "data": {
            "text/plain": [
              "ID            0\n",
              "Tag           0\n",
              "Reputation    0\n",
              "Answers       0\n",
              "Username      0\n",
              "Views         0\n",
              "dtype: int64"
            ]
          },
          "metadata": {
            "tags": []
          },
          "execution_count": 8
        }
      ]
    },
    {
      "cell_type": "code",
      "metadata": {
        "id": "-rxj-AshYIO-",
        "colab_type": "code",
        "colab": {}
      },
      "source": [
        "train=pd.read_csv(\"/content/train_NIR5Yl1.csv.crdownload\")"
      ],
      "execution_count": 0,
      "outputs": []
    },
    {
      "cell_type": "code",
      "metadata": {
        "id": "eiBRYO-9YMUn",
        "colab_type": "code",
        "outputId": "0ea22e29-f2be-4bc1-9ffe-2cd7024f3337",
        "colab": {
          "base_uri": "https://localhost:8080/",
          "height": 218
        }
      },
      "source": [
        "train[\"Answers\"].value_counts()"
      ],
      "execution_count": 6,
      "outputs": [
        {
          "output_type": "execute_result",
          "data": {
            "text/plain": [
              "2.0     69018\n",
              "1.0     62846\n",
              "3.0     54372\n",
              "4.0     39053\n",
              "5.0     26855\n",
              "        ...  \n",
              "57.0        2\n",
              "66.0        1\n",
              "59.0        1\n",
              "76.0        1\n",
              "53.0        1\n",
              "Name: Answers, Length: 62, dtype: int64"
            ]
          },
          "metadata": {
            "tags": []
          },
          "execution_count": 6
        }
      ]
    },
    {
      "cell_type": "code",
      "metadata": {
        "id": "--YIifPFYNXD",
        "colab_type": "code",
        "outputId": "e73e75dd-7d86-41b3-e8ec-fe5bea49a691",
        "colab": {
          "base_uri": "https://localhost:8080/",
          "height": 151
        }
      },
      "source": [
        "train.isnull().sum()"
      ],
      "execution_count": 40,
      "outputs": [
        {
          "output_type": "execute_result",
          "data": {
            "text/plain": [
              "ID            0\n",
              "Tag           1\n",
              "Reputation    1\n",
              "Answers       1\n",
              "Username      1\n",
              "Views         1\n",
              "Upvotes       1\n",
              "dtype: int64"
            ]
          },
          "metadata": {
            "tags": []
          },
          "execution_count": 40
        }
      ]
    },
    {
      "cell_type": "code",
      "metadata": {
        "id": "oIJBleFBZGqm",
        "colab_type": "code",
        "colab": {}
      },
      "source": [
        "train.drop([318247],inplace=True)"
      ],
      "execution_count": 0,
      "outputs": []
    },
    {
      "cell_type": "code",
      "metadata": {
        "id": "oMGF9TAYjTLq",
        "colab_type": "code",
        "colab": {
          "base_uri": "https://localhost:8080/",
          "height": 402
        },
        "outputId": "1e9610e9-d52c-4c57-d8f3-138d0648db38"
      },
      "source": [
        "train"
      ],
      "execution_count": 42,
      "outputs": [
        {
          "output_type": "execute_result",
          "data": {
            "text/html": [
              "<div>\n",
              "<style scoped>\n",
              "    .dataframe tbody tr th:only-of-type {\n",
              "        vertical-align: middle;\n",
              "    }\n",
              "\n",
              "    .dataframe tbody tr th {\n",
              "        vertical-align: top;\n",
              "    }\n",
              "\n",
              "    .dataframe thead th {\n",
              "        text-align: right;\n",
              "    }\n",
              "</style>\n",
              "<table border=\"1\" class=\"dataframe\">\n",
              "  <thead>\n",
              "    <tr style=\"text-align: right;\">\n",
              "      <th></th>\n",
              "      <th>ID</th>\n",
              "      <th>Tag</th>\n",
              "      <th>Reputation</th>\n",
              "      <th>Answers</th>\n",
              "      <th>Username</th>\n",
              "      <th>Views</th>\n",
              "      <th>Upvotes</th>\n",
              "    </tr>\n",
              "  </thead>\n",
              "  <tbody>\n",
              "    <tr>\n",
              "      <th>0</th>\n",
              "      <td>52664</td>\n",
              "      <td>a</td>\n",
              "      <td>3942.0</td>\n",
              "      <td>2.0</td>\n",
              "      <td>155623.0</td>\n",
              "      <td>7855.0</td>\n",
              "      <td>42.0</td>\n",
              "    </tr>\n",
              "    <tr>\n",
              "      <th>1</th>\n",
              "      <td>327662</td>\n",
              "      <td>a</td>\n",
              "      <td>26046.0</td>\n",
              "      <td>12.0</td>\n",
              "      <td>21781.0</td>\n",
              "      <td>55801.0</td>\n",
              "      <td>1175.0</td>\n",
              "    </tr>\n",
              "    <tr>\n",
              "      <th>2</th>\n",
              "      <td>468453</td>\n",
              "      <td>c</td>\n",
              "      <td>1358.0</td>\n",
              "      <td>4.0</td>\n",
              "      <td>56177.0</td>\n",
              "      <td>8067.0</td>\n",
              "      <td>60.0</td>\n",
              "    </tr>\n",
              "    <tr>\n",
              "      <th>3</th>\n",
              "      <td>96996</td>\n",
              "      <td>a</td>\n",
              "      <td>264.0</td>\n",
              "      <td>3.0</td>\n",
              "      <td>168793.0</td>\n",
              "      <td>27064.0</td>\n",
              "      <td>9.0</td>\n",
              "    </tr>\n",
              "    <tr>\n",
              "      <th>4</th>\n",
              "      <td>131465</td>\n",
              "      <td>c</td>\n",
              "      <td>4271.0</td>\n",
              "      <td>4.0</td>\n",
              "      <td>112223.0</td>\n",
              "      <td>13986.0</td>\n",
              "      <td>83.0</td>\n",
              "    </tr>\n",
              "    <tr>\n",
              "      <th>...</th>\n",
              "      <td>...</td>\n",
              "      <td>...</td>\n",
              "      <td>...</td>\n",
              "      <td>...</td>\n",
              "      <td>...</td>\n",
              "      <td>...</td>\n",
              "      <td>...</td>\n",
              "    </tr>\n",
              "    <tr>\n",
              "      <th>318242</th>\n",
              "      <td>285514</td>\n",
              "      <td>j</td>\n",
              "      <td>18666.0</td>\n",
              "      <td>9.0</td>\n",
              "      <td>118456.0</td>\n",
              "      <td>18647.0</td>\n",
              "      <td>232.0</td>\n",
              "    </tr>\n",
              "    <tr>\n",
              "      <th>318243</th>\n",
              "      <td>52438</td>\n",
              "      <td>p</td>\n",
              "      <td>2836.0</td>\n",
              "      <td>6.0</td>\n",
              "      <td>110987.0</td>\n",
              "      <td>73758.0</td>\n",
              "      <td>143.0</td>\n",
              "    </tr>\n",
              "    <tr>\n",
              "      <th>318244</th>\n",
              "      <td>291898</td>\n",
              "      <td>i</td>\n",
              "      <td>792.0</td>\n",
              "      <td>1.0</td>\n",
              "      <td>136611.0</td>\n",
              "      <td>2609.0</td>\n",
              "      <td>8.0</td>\n",
              "    </tr>\n",
              "    <tr>\n",
              "      <th>318245</th>\n",
              "      <td>355766</td>\n",
              "      <td>j</td>\n",
              "      <td>21.0</td>\n",
              "      <td>1.0</td>\n",
              "      <td>94185.0</td>\n",
              "      <td>159.0</td>\n",
              "      <td>8.0</td>\n",
              "    </tr>\n",
              "    <tr>\n",
              "      <th>318246</th>\n",
              "      <td>440582</td>\n",
              "      <td>s</td>\n",
              "      <td>347.0</td>\n",
              "      <td>1.0</td>\n",
              "      <td>92944.0</td>\n",
              "      <td>5140.0</td>\n",
              "      <td>4.0</td>\n",
              "    </tr>\n",
              "  </tbody>\n",
              "</table>\n",
              "<p>318247 rows × 7 columns</p>\n",
              "</div>"
            ],
            "text/plain": [
              "            ID Tag  Reputation  Answers  Username    Views  Upvotes\n",
              "0        52664   a      3942.0      2.0  155623.0   7855.0     42.0\n",
              "1       327662   a     26046.0     12.0   21781.0  55801.0   1175.0\n",
              "2       468453   c      1358.0      4.0   56177.0   8067.0     60.0\n",
              "3        96996   a       264.0      3.0  168793.0  27064.0      9.0\n",
              "4       131465   c      4271.0      4.0  112223.0  13986.0     83.0\n",
              "...        ...  ..         ...      ...       ...      ...      ...\n",
              "318242  285514   j     18666.0      9.0  118456.0  18647.0    232.0\n",
              "318243   52438   p      2836.0      6.0  110987.0  73758.0    143.0\n",
              "318244  291898   i       792.0      1.0  136611.0   2609.0      8.0\n",
              "318245  355766   j        21.0      1.0   94185.0    159.0      8.0\n",
              "318246  440582   s       347.0      1.0   92944.0   5140.0      4.0\n",
              "\n",
              "[318247 rows x 7 columns]"
            ]
          },
          "metadata": {
            "tags": []
          },
          "execution_count": 42
        }
      ]
    },
    {
      "cell_type": "code",
      "metadata": {
        "id": "O49d4gbtZzrg",
        "colab_type": "code",
        "colab": {}
      },
      "source": [
        "train.drop([\"ID\",\"Username\",],axis=1,inplace=True)"
      ],
      "execution_count": 0,
      "outputs": []
    },
    {
      "cell_type": "code",
      "metadata": {
        "id": "sNI_5ultaHUM",
        "colab_type": "code",
        "colab": {}
      },
      "source": [
        "from sklearn import preprocessing"
      ],
      "execution_count": 0,
      "outputs": []
    },
    {
      "cell_type": "code",
      "metadata": {
        "id": "3ImUg9zyaWWv",
        "colab_type": "code",
        "colab": {}
      },
      "source": [
        "le = preprocessing.LabelEncoder()"
      ],
      "execution_count": 0,
      "outputs": []
    },
    {
      "cell_type": "code",
      "metadata": {
        "id": "nkU5SLmHaYK5",
        "colab_type": "code",
        "colab": {}
      },
      "source": [
        "train[\"Tag\"]=le.fit_transform(train[\"Tag\"])"
      ],
      "execution_count": 0,
      "outputs": []
    },
    {
      "cell_type": "code",
      "metadata": {
        "id": "vgcEV5XMax0J",
        "colab_type": "code",
        "outputId": "04c986d5-08e8-4f39-e6b1-980f99101b85",
        "colab": {
          "base_uri": "https://localhost:8080/",
          "height": 118
        }
      },
      "source": [
        "train.dtypes"
      ],
      "execution_count": 47,
      "outputs": [
        {
          "output_type": "execute_result",
          "data": {
            "text/plain": [
              "Tag             int64\n",
              "Reputation    float64\n",
              "Answers       float64\n",
              "Views         float64\n",
              "Upvotes       float64\n",
              "dtype: object"
            ]
          },
          "metadata": {
            "tags": []
          },
          "execution_count": 47
        }
      ]
    },
    {
      "cell_type": "code",
      "metadata": {
        "id": "tZfOiFlDjLdb",
        "colab_type": "code",
        "colab": {
          "base_uri": "https://localhost:8080/",
          "height": 944
        },
        "outputId": "88ecfb0f-2a65-4d31-beba-89366cdc1559"
      },
      "source": [
        "sns.pairplot(train)"
      ],
      "execution_count": 17,
      "outputs": [
        {
          "output_type": "execute_result",
          "data": {
            "text/plain": [
              "<seaborn.axisgrid.PairGrid at 0x7ff01089d5c0>"
            ]
          },
          "metadata": {
            "tags": []
          },
          "execution_count": 17
        },
        {
          "output_type": "display_data",
          "data": {
            "image/png": "[encoded data removed]",
            "text/plain": [
              "<Figure size 900x900 with 30 Axes>"
            ]
          },
          "metadata": {
            "tags": [],
            "needs_background": "light"
          }
        }
      ]
    },
    {
      "cell_type": "code",
      "metadata": {
        "id": "AyQJybDfc4Ee",
        "colab_type": "code",
        "colab": {}
      },
      "source": [
        "train.drop(\"Upvotes\",axis=1,inplace=True)"
      ],
      "execution_count": 0,
      "outputs": []
    },
    {
      "cell_type": "code",
      "metadata": {
        "id": "WYWHYtrfd-Ze",
        "colab_type": "code",
        "colab": {}
      },
      "source": [
        "y=train[\"Upvotes\"]"
      ],
      "execution_count": 0,
      "outputs": []
    },
    {
      "cell_type": "code",
      "metadata": {
        "id": "vgP-06GkdhC5",
        "colab_type": "code",
        "outputId": "41e5550a-d313-4532-fce6-997717ea42f3",
        "colab": {
          "base_uri": "https://localhost:8080/",
          "height": 402
        }
      },
      "source": [
        "train"
      ],
      "execution_count": 20,
      "outputs": [
        {
          "output_type": "execute_result",
          "data": {
            "text/html": [
              "<div>\n",
              "<style scoped>\n",
              "    .dataframe tbody tr th:only-of-type {\n",
              "        vertical-align: middle;\n",
              "    }\n",
              "\n",
              "    .dataframe tbody tr th {\n",
              "        vertical-align: top;\n",
              "    }\n",
              "\n",
              "    .dataframe thead th {\n",
              "        text-align: right;\n",
              "    }\n",
              "</style>\n",
              "<table border=\"1\" class=\"dataframe\">\n",
              "  <thead>\n",
              "    <tr style=\"text-align: right;\">\n",
              "      <th></th>\n",
              "      <th>Tag</th>\n",
              "      <th>Reputation</th>\n",
              "      <th>Answers</th>\n",
              "      <th>Views</th>\n",
              "    </tr>\n",
              "  </thead>\n",
              "  <tbody>\n",
              "    <tr>\n",
              "      <th>0</th>\n",
              "      <td>0</td>\n",
              "      <td>3942.0</td>\n",
              "      <td>2.0</td>\n",
              "      <td>7855.0</td>\n",
              "    </tr>\n",
              "    <tr>\n",
              "      <th>1</th>\n",
              "      <td>0</td>\n",
              "      <td>26046.0</td>\n",
              "      <td>12.0</td>\n",
              "      <td>55801.0</td>\n",
              "    </tr>\n",
              "    <tr>\n",
              "      <th>2</th>\n",
              "      <td>1</td>\n",
              "      <td>1358.0</td>\n",
              "      <td>4.0</td>\n",
              "      <td>8067.0</td>\n",
              "    </tr>\n",
              "    <tr>\n",
              "      <th>3</th>\n",
              "      <td>0</td>\n",
              "      <td>264.0</td>\n",
              "      <td>3.0</td>\n",
              "      <td>27064.0</td>\n",
              "    </tr>\n",
              "    <tr>\n",
              "      <th>4</th>\n",
              "      <td>1</td>\n",
              "      <td>4271.0</td>\n",
              "      <td>4.0</td>\n",
              "      <td>13986.0</td>\n",
              "    </tr>\n",
              "    <tr>\n",
              "      <th>...</th>\n",
              "      <td>...</td>\n",
              "      <td>...</td>\n",
              "      <td>...</td>\n",
              "      <td>...</td>\n",
              "    </tr>\n",
              "    <tr>\n",
              "      <th>318242</th>\n",
              "      <td>4</td>\n",
              "      <td>18666.0</td>\n",
              "      <td>9.0</td>\n",
              "      <td>18647.0</td>\n",
              "    </tr>\n",
              "    <tr>\n",
              "      <th>318243</th>\n",
              "      <td>6</td>\n",
              "      <td>2836.0</td>\n",
              "      <td>6.0</td>\n",
              "      <td>73758.0</td>\n",
              "    </tr>\n",
              "    <tr>\n",
              "      <th>318244</th>\n",
              "      <td>3</td>\n",
              "      <td>792.0</td>\n",
              "      <td>1.0</td>\n",
              "      <td>2609.0</td>\n",
              "    </tr>\n",
              "    <tr>\n",
              "      <th>318245</th>\n",
              "      <td>4</td>\n",
              "      <td>21.0</td>\n",
              "      <td>1.0</td>\n",
              "      <td>159.0</td>\n",
              "    </tr>\n",
              "    <tr>\n",
              "      <th>318246</th>\n",
              "      <td>8</td>\n",
              "      <td>347.0</td>\n",
              "      <td>1.0</td>\n",
              "      <td>5140.0</td>\n",
              "    </tr>\n",
              "  </tbody>\n",
              "</table>\n",
              "<p>318247 rows × 4 columns</p>\n",
              "</div>"
            ],
            "text/plain": [
              "        Tag  Reputation  Answers    Views\n",
              "0         0      3942.0      2.0   7855.0\n",
              "1         0     26046.0     12.0  55801.0\n",
              "2         1      1358.0      4.0   8067.0\n",
              "3         0       264.0      3.0  27064.0\n",
              "4         1      4271.0      4.0  13986.0\n",
              "...     ...         ...      ...      ...\n",
              "318242    4     18666.0      9.0  18647.0\n",
              "318243    6      2836.0      6.0  73758.0\n",
              "318244    3       792.0      1.0   2609.0\n",
              "318245    4        21.0      1.0    159.0\n",
              "318246    8       347.0      1.0   5140.0\n",
              "\n",
              "[318247 rows x 4 columns]"
            ]
          },
          "metadata": {
            "tags": []
          },
          "execution_count": 20
        }
      ]
    },
    {
      "cell_type": "code",
      "metadata": {
        "id": "EbdIBtRjjnJB",
        "colab_type": "code",
        "colab": {
          "base_uri": "https://localhost:8080/",
          "height": 293
        },
        "outputId": "4a65f4d5-153d-4507-888c-296efefbbc97"
      },
      "source": [
        "train[\"Reputation\"].plot.box()"
      ],
      "execution_count": 21,
      "outputs": [
        {
          "output_type": "execute_result",
          "data": {
            "text/plain": [
              "<matplotlib.axes._subplots.AxesSubplot at 0x7ff00bc5d320>"
            ]
          },
          "metadata": {
            "tags": []
          },
          "execution_count": 21
        },
        {
          "output_type": "display_data",
          "data": {
            "image/png": "[encoded data removed]",
            "text/plain": [
              "<Figure size 432x288 with 1 Axes>"
            ]
          },
          "metadata": {
            "tags": [],
            "needs_background": "light"
          }
        }
      ]
    },
    {
      "cell_type": "code",
      "metadata": {
        "id": "ySKSQxn9lVt8",
        "colab_type": "code",
        "colab": {
          "base_uri": "https://localhost:8080/",
          "height": 293
        },
        "outputId": "f2f71ad3-793d-466e-8313-86732189b50e"
      },
      "source": [
        "train[\"robust\"].plot.box()"
      ],
      "execution_count": 30,
      "outputs": [
        {
          "output_type": "execute_result",
          "data": {
            "text/plain": [
              "<matplotlib.axes._subplots.AxesSubplot at 0x7ff00b561358>"
            ]
          },
          "metadata": {
            "tags": []
          },
          "execution_count": 30
        },
        {
          "output_type": "display_data",
          "data": {
            "image/png": "[encoded data removed]",
            "text/plain": [
              "<Figure size 432x288 with 1 Axes>"
            ]
          },
          "metadata": {
            "tags": [],
            "needs_background": "light"
          }
        }
      ]
    },
    {
      "cell_type": "code",
      "metadata": {
        "id": "FDYZuQJKk1rd",
        "colab_type": "code",
        "colab": {}
      },
      "source": [
        "import numpy as np"
      ],
      "execution_count": 0,
      "outputs": []
    },
    {
      "cell_type": "code",
      "metadata": {
        "id": "vSsPTLTmlGOJ",
        "colab_type": "code",
        "colab": {}
      },
      "source": [
        "from sklearn.preprocessing import RobustScaler\n",
        "robust = RobustScaler(quantile_range = (0.1,0.9))\n"
      ],
      "execution_count": 0,
      "outputs": []
    },
    {
      "cell_type": "code",
      "metadata": {
        "id": "J9GthHuglGQf",
        "colab_type": "code",
        "colab": {}
      },
      "source": [
        "robust=robust.fit_transform(train.Reputation.values.reshape(-1,1))"
      ],
      "execution_count": 0,
      "outputs": []
    },
    {
      "cell_type": "code",
      "metadata": {
        "id": "N--S_ptalGU6",
        "colab_type": "code",
        "colab": {
          "base_uri": "https://localhost:8080/",
          "height": 402
        },
        "outputId": "f646d35e-ca6f-4737-a5e5-9dd3227c7e30"
      },
      "source": [
        "train"
      ],
      "execution_count": 53,
      "outputs": [
        {
          "output_type": "execute_result",
          "data": {
            "text/html": [
              "<div>\n",
              "<style scoped>\n",
              "    .dataframe tbody tr th:only-of-type {\n",
              "        vertical-align: middle;\n",
              "    }\n",
              "\n",
              "    .dataframe tbody tr th {\n",
              "        vertical-align: top;\n",
              "    }\n",
              "\n",
              "    .dataframe thead th {\n",
              "        text-align: right;\n",
              "    }\n",
              "</style>\n",
              "<table border=\"1\" class=\"dataframe\">\n",
              "  <thead>\n",
              "    <tr style=\"text-align: right;\">\n",
              "      <th></th>\n",
              "      <th>Tag</th>\n",
              "      <th>Reputation</th>\n",
              "      <th>Answers</th>\n",
              "      <th>Views</th>\n",
              "    </tr>\n",
              "  </thead>\n",
              "  <tbody>\n",
              "    <tr>\n",
              "      <th>0</th>\n",
              "      <td>0</td>\n",
              "      <td>3942.0</td>\n",
              "      <td>2.0</td>\n",
              "      <td>7855.0</td>\n",
              "    </tr>\n",
              "    <tr>\n",
              "      <th>1</th>\n",
              "      <td>0</td>\n",
              "      <td>26046.0</td>\n",
              "      <td>12.0</td>\n",
              "      <td>55801.0</td>\n",
              "    </tr>\n",
              "    <tr>\n",
              "      <th>2</th>\n",
              "      <td>1</td>\n",
              "      <td>1358.0</td>\n",
              "      <td>4.0</td>\n",
              "      <td>8067.0</td>\n",
              "    </tr>\n",
              "    <tr>\n",
              "      <th>3</th>\n",
              "      <td>0</td>\n",
              "      <td>264.0</td>\n",
              "      <td>3.0</td>\n",
              "      <td>27064.0</td>\n",
              "    </tr>\n",
              "    <tr>\n",
              "      <th>4</th>\n",
              "      <td>1</td>\n",
              "      <td>4271.0</td>\n",
              "      <td>4.0</td>\n",
              "      <td>13986.0</td>\n",
              "    </tr>\n",
              "    <tr>\n",
              "      <th>...</th>\n",
              "      <td>...</td>\n",
              "      <td>...</td>\n",
              "      <td>...</td>\n",
              "      <td>...</td>\n",
              "    </tr>\n",
              "    <tr>\n",
              "      <th>318242</th>\n",
              "      <td>4</td>\n",
              "      <td>18666.0</td>\n",
              "      <td>9.0</td>\n",
              "      <td>18647.0</td>\n",
              "    </tr>\n",
              "    <tr>\n",
              "      <th>318243</th>\n",
              "      <td>6</td>\n",
              "      <td>2836.0</td>\n",
              "      <td>6.0</td>\n",
              "      <td>73758.0</td>\n",
              "    </tr>\n",
              "    <tr>\n",
              "      <th>318244</th>\n",
              "      <td>3</td>\n",
              "      <td>792.0</td>\n",
              "      <td>1.0</td>\n",
              "      <td>2609.0</td>\n",
              "    </tr>\n",
              "    <tr>\n",
              "      <th>318245</th>\n",
              "      <td>4</td>\n",
              "      <td>21.0</td>\n",
              "      <td>1.0</td>\n",
              "      <td>159.0</td>\n",
              "    </tr>\n",
              "    <tr>\n",
              "      <th>318246</th>\n",
              "      <td>8</td>\n",
              "      <td>347.0</td>\n",
              "      <td>1.0</td>\n",
              "      <td>5140.0</td>\n",
              "    </tr>\n",
              "  </tbody>\n",
              "</table>\n",
              "<p>318247 rows × 4 columns</p>\n",
              "</div>"
            ],
            "text/plain": [
              "        Tag  Reputation  Answers    Views\n",
              "0         0      3942.0      2.0   7855.0\n",
              "1         0     26046.0     12.0  55801.0\n",
              "2         1      1358.0      4.0   8067.0\n",
              "3         0       264.0      3.0  27064.0\n",
              "4         1      4271.0      4.0  13986.0\n",
              "...     ...         ...      ...      ...\n",
              "318242    4     18666.0      9.0  18647.0\n",
              "318243    6      2836.0      6.0  73758.0\n",
              "318244    3       792.0      1.0   2609.0\n",
              "318245    4        21.0      1.0    159.0\n",
              "318246    8       347.0      1.0   5140.0\n",
              "\n",
              "[318247 rows x 4 columns]"
            ]
          },
          "metadata": {
            "tags": []
          },
          "execution_count": 53
        }
      ]
    },
    {
      "cell_type": "code",
      "metadata": {
        "id": "zSCwuWZvCCDQ",
        "colab_type": "code",
        "colab": {}
      },
      "source": [
        "from sklearn.preprocessing import PolynomialFeatures"
      ],
      "execution_count": 0,
      "outputs": []
    },
    {
      "cell_type": "code",
      "metadata": {
        "id": "FkWXpTorCIFP",
        "colab_type": "code",
        "colab": {}
      },
      "source": [
        "poly_reg = PolynomialFeatures(degree = 2,interaction_only=False, include_bias=True)"
      ],
      "execution_count": 0,
      "outputs": []
    },
    {
      "cell_type": "code",
      "metadata": {
        "id": "8lO0H8W9CIIP",
        "colab_type": "code",
        "colab": {}
      },
      "source": [
        "X_poly = poly_reg.fit_transform(train)"
      ],
      "execution_count": 0,
      "outputs": []
    },
    {
      "cell_type": "code",
      "metadata": {
        "id": "eu561M-WCIDI",
        "colab_type": "code",
        "outputId": "c1bdb42a-baec-4361-a9c3-24b1f2ec131e",
        "colab": {
          "base_uri": "https://localhost:8080/",
          "height": 34
        }
      },
      "source": [
        "type(X_poly)"
      ],
      "execution_count": 57,
      "outputs": [
        {
          "output_type": "execute_result",
          "data": {
            "text/plain": [
              "numpy.ndarray"
            ]
          },
          "metadata": {
            "tags": []
          },
          "execution_count": 57
        }
      ]
    },
    {
      "cell_type": "code",
      "metadata": {
        "id": "-Bn8Nqr9CWfM",
        "colab_type": "code",
        "outputId": "5b7d0d9c-3531-4101-9e8e-98fb55131c6b",
        "colab": {
          "base_uri": "https://localhost:8080/",
          "height": 34
        }
      },
      "source": [
        "X_poly.shape"
      ],
      "execution_count": 58,
      "outputs": [
        {
          "output_type": "execute_result",
          "data": {
            "text/plain": [
              "(318247, 15)"
            ]
          },
          "metadata": {
            "tags": []
          },
          "execution_count": 58
        }
      ]
    },
    {
      "cell_type": "code",
      "metadata": {
        "id": "7OyCac01mfyw",
        "colab_type": "code",
        "colab": {
          "base_uri": "https://localhost:8080/",
          "height": 34
        },
        "outputId": "c864e8e0-c97d-458e-8762-19408db52c53"
      },
      "source": [
        "train.columns"
      ],
      "execution_count": 59,
      "outputs": [
        {
          "output_type": "execute_result",
          "data": {
            "text/plain": [
              "Index(['Tag', 'Reputation', 'Answers', 'Views'], dtype='object')"
            ]
          },
          "metadata": {
            "tags": []
          },
          "execution_count": 59
        }
      ]
    },
    {
      "cell_type": "code",
      "metadata": {
        "id": "BjmDSp7sCWh7",
        "colab_type": "code",
        "colab": {}
      },
      "source": [
        "col=[\"1\",\"Tag\", \"Reputation\", \"Answers\", \"Views\",\"T2\",\"TR\",\"TA\",\"TV\",\"R2\",\"RA\",\"RV\",\"A2\",\"AV\",\"V2\"]"
      ],
      "execution_count": 0,
      "outputs": []
    },
    {
      "cell_type": "code",
      "metadata": {
        "id": "31IN80gaDUDI",
        "colab_type": "code",
        "colab": {}
      },
      "source": [
        "xx=pd.DataFrame(X_poly,columns=col)"
      ],
      "execution_count": 0,
      "outputs": []
    },
    {
      "cell_type": "code",
      "metadata": {
        "id": "0aO-uBO1du7H",
        "colab_type": "code",
        "outputId": "d609910a-01e3-469c-d980-412d50899a1b",
        "colab": {
          "base_uri": "https://localhost:8080/",
          "height": 402
        }
      },
      "source": [
        "xx"
      ],
      "execution_count": 66,
      "outputs": [
        {
          "output_type": "execute_result",
          "data": {
            "text/html": [
              "<div>\n",
              "<style scoped>\n",
              "    .dataframe tbody tr th:only-of-type {\n",
              "        vertical-align: middle;\n",
              "    }\n",
              "\n",
              "    .dataframe tbody tr th {\n",
              "        vertical-align: top;\n",
              "    }\n",
              "\n",
              "    .dataframe thead th {\n",
              "        text-align: right;\n",
              "    }\n",
              "</style>\n",
              "<table border=\"1\" class=\"dataframe\">\n",
              "  <thead>\n",
              "    <tr style=\"text-align: right;\">\n",
              "      <th></th>\n",
              "      <th>1</th>\n",
              "      <th>Tag</th>\n",
              "      <th>Reputation</th>\n",
              "      <th>Answers</th>\n",
              "      <th>Views</th>\n",
              "      <th>T2</th>\n",
              "      <th>TR</th>\n",
              "      <th>TA</th>\n",
              "      <th>TV</th>\n",
              "      <th>R2</th>\n",
              "      <th>RA</th>\n",
              "      <th>RV</th>\n",
              "      <th>A2</th>\n",
              "      <th>AV</th>\n",
              "      <th>V2</th>\n",
              "    </tr>\n",
              "  </thead>\n",
              "  <tbody>\n",
              "    <tr>\n",
              "      <th>0</th>\n",
              "      <td>1.0</td>\n",
              "      <td>0.0</td>\n",
              "      <td>3942.0</td>\n",
              "      <td>2.0</td>\n",
              "      <td>7855.0</td>\n",
              "      <td>0.0</td>\n",
              "      <td>0.0</td>\n",
              "      <td>0.0</td>\n",
              "      <td>0.0</td>\n",
              "      <td>15539364.0</td>\n",
              "      <td>7884.0</td>\n",
              "      <td>3.096441e+07</td>\n",
              "      <td>4.0</td>\n",
              "      <td>15710.0</td>\n",
              "      <td>6.170102e+07</td>\n",
              "    </tr>\n",
              "    <tr>\n",
              "      <th>1</th>\n",
              "      <td>1.0</td>\n",
              "      <td>0.0</td>\n",
              "      <td>26046.0</td>\n",
              "      <td>12.0</td>\n",
              "      <td>55801.0</td>\n",
              "      <td>0.0</td>\n",
              "      <td>0.0</td>\n",
              "      <td>0.0</td>\n",
              "      <td>0.0</td>\n",
              "      <td>678394116.0</td>\n",
              "      <td>312552.0</td>\n",
              "      <td>1.453393e+09</td>\n",
              "      <td>144.0</td>\n",
              "      <td>669612.0</td>\n",
              "      <td>3.113752e+09</td>\n",
              "    </tr>\n",
              "    <tr>\n",
              "      <th>2</th>\n",
              "      <td>1.0</td>\n",
              "      <td>1.0</td>\n",
              "      <td>1358.0</td>\n",
              "      <td>4.0</td>\n",
              "      <td>8067.0</td>\n",
              "      <td>1.0</td>\n",
              "      <td>1358.0</td>\n",
              "      <td>4.0</td>\n",
              "      <td>8067.0</td>\n",
              "      <td>1844164.0</td>\n",
              "      <td>5432.0</td>\n",
              "      <td>1.095499e+07</td>\n",
              "      <td>16.0</td>\n",
              "      <td>32268.0</td>\n",
              "      <td>6.507649e+07</td>\n",
              "    </tr>\n",
              "    <tr>\n",
              "      <th>3</th>\n",
              "      <td>1.0</td>\n",
              "      <td>0.0</td>\n",
              "      <td>264.0</td>\n",
              "      <td>3.0</td>\n",
              "      <td>27064.0</td>\n",
              "      <td>0.0</td>\n",
              "      <td>0.0</td>\n",
              "      <td>0.0</td>\n",
              "      <td>0.0</td>\n",
              "      <td>69696.0</td>\n",
              "      <td>792.0</td>\n",
              "      <td>7.144896e+06</td>\n",
              "      <td>9.0</td>\n",
              "      <td>81192.0</td>\n",
              "      <td>7.324601e+08</td>\n",
              "    </tr>\n",
              "    <tr>\n",
              "      <th>4</th>\n",
              "      <td>1.0</td>\n",
              "      <td>1.0</td>\n",
              "      <td>4271.0</td>\n",
              "      <td>4.0</td>\n",
              "      <td>13986.0</td>\n",
              "      <td>1.0</td>\n",
              "      <td>4271.0</td>\n",
              "      <td>4.0</td>\n",
              "      <td>13986.0</td>\n",
              "      <td>18241441.0</td>\n",
              "      <td>17084.0</td>\n",
              "      <td>5.973421e+07</td>\n",
              "      <td>16.0</td>\n",
              "      <td>55944.0</td>\n",
              "      <td>1.956082e+08</td>\n",
              "    </tr>\n",
              "    <tr>\n",
              "      <th>...</th>\n",
              "      <td>...</td>\n",
              "      <td>...</td>\n",
              "      <td>...</td>\n",
              "      <td>...</td>\n",
              "      <td>...</td>\n",
              "      <td>...</td>\n",
              "      <td>...</td>\n",
              "      <td>...</td>\n",
              "      <td>...</td>\n",
              "      <td>...</td>\n",
              "      <td>...</td>\n",
              "      <td>...</td>\n",
              "      <td>...</td>\n",
              "      <td>...</td>\n",
              "      <td>...</td>\n",
              "    </tr>\n",
              "    <tr>\n",
              "      <th>318242</th>\n",
              "      <td>1.0</td>\n",
              "      <td>4.0</td>\n",
              "      <td>18666.0</td>\n",
              "      <td>9.0</td>\n",
              "      <td>18647.0</td>\n",
              "      <td>16.0</td>\n",
              "      <td>74664.0</td>\n",
              "      <td>36.0</td>\n",
              "      <td>74588.0</td>\n",
              "      <td>348419556.0</td>\n",
              "      <td>167994.0</td>\n",
              "      <td>3.480649e+08</td>\n",
              "      <td>81.0</td>\n",
              "      <td>167823.0</td>\n",
              "      <td>3.477106e+08</td>\n",
              "    </tr>\n",
              "    <tr>\n",
              "      <th>318243</th>\n",
              "      <td>1.0</td>\n",
              "      <td>6.0</td>\n",
              "      <td>2836.0</td>\n",
              "      <td>6.0</td>\n",
              "      <td>73758.0</td>\n",
              "      <td>36.0</td>\n",
              "      <td>17016.0</td>\n",
              "      <td>36.0</td>\n",
              "      <td>442548.0</td>\n",
              "      <td>8042896.0</td>\n",
              "      <td>17016.0</td>\n",
              "      <td>2.091777e+08</td>\n",
              "      <td>36.0</td>\n",
              "      <td>442548.0</td>\n",
              "      <td>5.440243e+09</td>\n",
              "    </tr>\n",
              "    <tr>\n",
              "      <th>318244</th>\n",
              "      <td>1.0</td>\n",
              "      <td>3.0</td>\n",
              "      <td>792.0</td>\n",
              "      <td>1.0</td>\n",
              "      <td>2609.0</td>\n",
              "      <td>9.0</td>\n",
              "      <td>2376.0</td>\n",
              "      <td>3.0</td>\n",
              "      <td>7827.0</td>\n",
              "      <td>627264.0</td>\n",
              "      <td>792.0</td>\n",
              "      <td>2.066328e+06</td>\n",
              "      <td>1.0</td>\n",
              "      <td>2609.0</td>\n",
              "      <td>6.806881e+06</td>\n",
              "    </tr>\n",
              "    <tr>\n",
              "      <th>318245</th>\n",
              "      <td>1.0</td>\n",
              "      <td>4.0</td>\n",
              "      <td>21.0</td>\n",
              "      <td>1.0</td>\n",
              "      <td>159.0</td>\n",
              "      <td>16.0</td>\n",
              "      <td>84.0</td>\n",
              "      <td>4.0</td>\n",
              "      <td>636.0</td>\n",
              "      <td>441.0</td>\n",
              "      <td>21.0</td>\n",
              "      <td>3.339000e+03</td>\n",
              "      <td>1.0</td>\n",
              "      <td>159.0</td>\n",
              "      <td>2.528100e+04</td>\n",
              "    </tr>\n",
              "    <tr>\n",
              "      <th>318246</th>\n",
              "      <td>1.0</td>\n",
              "      <td>8.0</td>\n",
              "      <td>347.0</td>\n",
              "      <td>1.0</td>\n",
              "      <td>5140.0</td>\n",
              "      <td>64.0</td>\n",
              "      <td>2776.0</td>\n",
              "      <td>8.0</td>\n",
              "      <td>41120.0</td>\n",
              "      <td>120409.0</td>\n",
              "      <td>347.0</td>\n",
              "      <td>1.783580e+06</td>\n",
              "      <td>1.0</td>\n",
              "      <td>5140.0</td>\n",
              "      <td>2.641960e+07</td>\n",
              "    </tr>\n",
              "  </tbody>\n",
              "</table>\n",
              "<p>318247 rows × 15 columns</p>\n",
              "</div>"
            ],
            "text/plain": [
              "          1  Tag  Reputation  ...     A2        AV            V2\n",
              "0       1.0  0.0      3942.0  ...    4.0   15710.0  6.170102e+07\n",
              "1       1.0  0.0     26046.0  ...  144.0  669612.0  3.113752e+09\n",
              "2       1.0  1.0      1358.0  ...   16.0   32268.0  6.507649e+07\n",
              "3       1.0  0.0       264.0  ...    9.0   81192.0  7.324601e+08\n",
              "4       1.0  1.0      4271.0  ...   16.0   55944.0  1.956082e+08\n",
              "...     ...  ...         ...  ...    ...       ...           ...\n",
              "318242  1.0  4.0     18666.0  ...   81.0  167823.0  3.477106e+08\n",
              "318243  1.0  6.0      2836.0  ...   36.0  442548.0  5.440243e+09\n",
              "318244  1.0  3.0       792.0  ...    1.0    2609.0  6.806881e+06\n",
              "318245  1.0  4.0        21.0  ...    1.0     159.0  2.528100e+04\n",
              "318246  1.0  8.0       347.0  ...    1.0    5140.0  2.641960e+07\n",
              "\n",
              "[318247 rows x 15 columns]"
            ]
          },
          "metadata": {
            "tags": []
          },
          "execution_count": 66
        }
      ]
    },
    {
      "cell_type": "code",
      "metadata": {
        "id": "G-KZuYc6oWHV",
        "colab_type": "code",
        "colab": {}
      },
      "source": [
        "bn = Binarizer(threshold=7)"
      ],
      "execution_count": 0,
      "outputs": []
    },
    {
      "cell_type": "code",
      "metadata": {
        "id": "_l_p-jB6oWJy",
        "colab_type": "code",
        "colab": {
          "base_uri": "https://localhost:8080/",
          "height": 282
        },
        "outputId": "fd50b924-2ba0-4397-d6d7-2b2590c91961"
      },
      "source": [
        "xx[\"Answers\"].plot.box()"
      ],
      "execution_count": 69,
      "outputs": [
        {
          "output_type": "execute_result",
          "data": {
            "text/plain": [
              "<matplotlib.axes._subplots.AxesSubplot at 0x7ff00b4c8390>"
            ]
          },
          "metadata": {
            "tags": []
          },
          "execution_count": 69
        },
        {
          "output_type": "display_data",
          "data": {
            "image/png": "[encoded data removed]",
            "text/plain": [
              "<Figure size 432x288 with 1 Axes>"
            ]
          },
          "metadata": {
            "tags": [],
            "needs_background": "light"
          }
        }
      ]
    },
    {
      "cell_type": "markdown",
      "metadata": {
        "id": "oNpPR-F6pYcx",
        "colab_type": "text"
      },
      "source": [
        "#BOX PLOT ANALYSIS"
      ]
    },
    {
      "cell_type": "code",
      "metadata": {
        "id": "K-xlk6UwoWOH",
        "colab_type": "code",
        "colab": {}
      },
      "source": [
        "upper_quartile=np.percentile(xx[\"Answers\"], 75)"
      ],
      "execution_count": 0,
      "outputs": []
    },
    {
      "cell_type": "code",
      "metadata": {
        "id": "PNUXHlHtoWQf",
        "colab_type": "code",
        "colab": {}
      },
      "source": [
        "lower_quartile = np.percentile(xx[\"Answers\"], 25)"
      ],
      "execution_count": 0,
      "outputs": []
    },
    {
      "cell_type": "code",
      "metadata": {
        "id": "AnFxwz-Wo6T1",
        "colab_type": "code",
        "colab": {}
      },
      "source": [
        "iqr = upper_quartile - lower_quartile\n",
        "upper_whisker = xx[\"Answers\"][xx[\"Answers\"]<=upper_quartile+1.5*iqr].max()\n",
        "lower_whisker =xx[\"Answers\"][xx[\"Answers\"]>=lower_quartile-1.5*iqr].min()"
      ],
      "execution_count": 0,
      "outputs": []
    },
    {
      "cell_type": "code",
      "metadata": {
        "id": "yqsctakAo6Yj",
        "colab_type": "code",
        "colab": {
          "base_uri": "https://localhost:8080/",
          "height": 34
        },
        "outputId": "f3152f95-d496-4469-96a3-e2cc3e648a2e"
      },
      "source": [
        "upper_whisker"
      ],
      "execution_count": 80,
      "outputs": [
        {
          "output_type": "execute_result",
          "data": {
            "text/plain": [
              "9.0"
            ]
          },
          "metadata": {
            "tags": []
          },
          "execution_count": 80
        }
      ]
    },
    {
      "cell_type": "code",
      "metadata": {
        "id": "v4JIDpOao6bZ",
        "colab_type": "code",
        "colab": {}
      },
      "source": [
        "from sklearn.preprocessing import Binarizer"
      ],
      "execution_count": 0,
      "outputs": []
    },
    {
      "cell_type": "code",
      "metadata": {
        "id": "Kprnxm2zp67U",
        "colab_type": "code",
        "colab": {}
      },
      "source": [
        "bn = Binarizer(threshold=9)"
      ],
      "execution_count": 0,
      "outputs": []
    },
    {
      "cell_type": "code",
      "metadata": {
        "id": "GVD1loM-p2kJ",
        "colab_type": "code",
        "colab": {
          "base_uri": "https://localhost:8080/",
          "height": 422
        },
        "outputId": "865211a4-0977-4da6-ca82-676cfbb1bccf"
      },
      "source": [
        "xx"
      ],
      "execution_count": 100,
      "outputs": [
        {
          "output_type": "execute_result",
          "data": {
            "text/html": [
              "<div>\n",
              "<style scoped>\n",
              "    .dataframe tbody tr th:only-of-type {\n",
              "        vertical-align: middle;\n",
              "    }\n",
              "\n",
              "    .dataframe tbody tr th {\n",
              "        vertical-align: top;\n",
              "    }\n",
              "\n",
              "    .dataframe thead th {\n",
              "        text-align: right;\n",
              "    }\n",
              "</style>\n",
              "<table border=\"1\" class=\"dataframe\">\n",
              "  <thead>\n",
              "    <tr style=\"text-align: right;\">\n",
              "      <th></th>\n",
              "      <th>1</th>\n",
              "      <th>Tag</th>\n",
              "      <th>Reputation</th>\n",
              "      <th>Answers</th>\n",
              "      <th>Views</th>\n",
              "      <th>T2</th>\n",
              "      <th>TR</th>\n",
              "      <th>TA</th>\n",
              "      <th>TV</th>\n",
              "      <th>R2</th>\n",
              "      <th>RA</th>\n",
              "      <th>RV</th>\n",
              "      <th>A2</th>\n",
              "      <th>AV</th>\n",
              "      <th>V2</th>\n",
              "      <th>bn_trans</th>\n",
              "      <th>robust</th>\n",
              "    </tr>\n",
              "  </thead>\n",
              "  <tbody>\n",
              "    <tr>\n",
              "      <th>0</th>\n",
              "      <td>1.0</td>\n",
              "      <td>0.0</td>\n",
              "      <td>3942.0</td>\n",
              "      <td>2.0</td>\n",
              "      <td>7855.0</td>\n",
              "      <td>0.0</td>\n",
              "      <td>0.0</td>\n",
              "      <td>0.0</td>\n",
              "      <td>0.0</td>\n",
              "      <td>15539364.0</td>\n",
              "      <td>7884.0</td>\n",
              "      <td>3.096441e+07</td>\n",
              "      <td>4.0</td>\n",
              "      <td>15710.0</td>\n",
              "      <td>6.170102e+07</td>\n",
              "      <td>0.0</td>\n",
              "      <td>2706.0</td>\n",
              "    </tr>\n",
              "    <tr>\n",
              "      <th>1</th>\n",
              "      <td>1.0</td>\n",
              "      <td>0.0</td>\n",
              "      <td>26046.0</td>\n",
              "      <td>12.0</td>\n",
              "      <td>55801.0</td>\n",
              "      <td>0.0</td>\n",
              "      <td>0.0</td>\n",
              "      <td>0.0</td>\n",
              "      <td>0.0</td>\n",
              "      <td>678394116.0</td>\n",
              "      <td>312552.0</td>\n",
              "      <td>1.453393e+09</td>\n",
              "      <td>144.0</td>\n",
              "      <td>669612.0</td>\n",
              "      <td>3.113752e+09</td>\n",
              "      <td>1.0</td>\n",
              "      <td>24810.0</td>\n",
              "    </tr>\n",
              "    <tr>\n",
              "      <th>2</th>\n",
              "      <td>1.0</td>\n",
              "      <td>1.0</td>\n",
              "      <td>1358.0</td>\n",
              "      <td>4.0</td>\n",
              "      <td>8067.0</td>\n",
              "      <td>1.0</td>\n",
              "      <td>1358.0</td>\n",
              "      <td>4.0</td>\n",
              "      <td>8067.0</td>\n",
              "      <td>1844164.0</td>\n",
              "      <td>5432.0</td>\n",
              "      <td>1.095499e+07</td>\n",
              "      <td>16.0</td>\n",
              "      <td>32268.0</td>\n",
              "      <td>6.507649e+07</td>\n",
              "      <td>0.0</td>\n",
              "      <td>122.0</td>\n",
              "    </tr>\n",
              "    <tr>\n",
              "      <th>3</th>\n",
              "      <td>1.0</td>\n",
              "      <td>0.0</td>\n",
              "      <td>264.0</td>\n",
              "      <td>3.0</td>\n",
              "      <td>27064.0</td>\n",
              "      <td>0.0</td>\n",
              "      <td>0.0</td>\n",
              "      <td>0.0</td>\n",
              "      <td>0.0</td>\n",
              "      <td>69696.0</td>\n",
              "      <td>792.0</td>\n",
              "      <td>7.144896e+06</td>\n",
              "      <td>9.0</td>\n",
              "      <td>81192.0</td>\n",
              "      <td>7.324601e+08</td>\n",
              "      <td>0.0</td>\n",
              "      <td>-972.0</td>\n",
              "    </tr>\n",
              "    <tr>\n",
              "      <th>4</th>\n",
              "      <td>1.0</td>\n",
              "      <td>1.0</td>\n",
              "      <td>4271.0</td>\n",
              "      <td>4.0</td>\n",
              "      <td>13986.0</td>\n",
              "      <td>1.0</td>\n",
              "      <td>4271.0</td>\n",
              "      <td>4.0</td>\n",
              "      <td>13986.0</td>\n",
              "      <td>18241441.0</td>\n",
              "      <td>17084.0</td>\n",
              "      <td>5.973421e+07</td>\n",
              "      <td>16.0</td>\n",
              "      <td>55944.0</td>\n",
              "      <td>1.956082e+08</td>\n",
              "      <td>0.0</td>\n",
              "      <td>3035.0</td>\n",
              "    </tr>\n",
              "    <tr>\n",
              "      <th>...</th>\n",
              "      <td>...</td>\n",
              "      <td>...</td>\n",
              "      <td>...</td>\n",
              "      <td>...</td>\n",
              "      <td>...</td>\n",
              "      <td>...</td>\n",
              "      <td>...</td>\n",
              "      <td>...</td>\n",
              "      <td>...</td>\n",
              "      <td>...</td>\n",
              "      <td>...</td>\n",
              "      <td>...</td>\n",
              "      <td>...</td>\n",
              "      <td>...</td>\n",
              "      <td>...</td>\n",
              "      <td>...</td>\n",
              "      <td>...</td>\n",
              "    </tr>\n",
              "    <tr>\n",
              "      <th>318242</th>\n",
              "      <td>1.0</td>\n",
              "      <td>4.0</td>\n",
              "      <td>18666.0</td>\n",
              "      <td>9.0</td>\n",
              "      <td>18647.0</td>\n",
              "      <td>16.0</td>\n",
              "      <td>74664.0</td>\n",
              "      <td>36.0</td>\n",
              "      <td>74588.0</td>\n",
              "      <td>348419556.0</td>\n",
              "      <td>167994.0</td>\n",
              "      <td>3.480649e+08</td>\n",
              "      <td>81.0</td>\n",
              "      <td>167823.0</td>\n",
              "      <td>3.477106e+08</td>\n",
              "      <td>0.0</td>\n",
              "      <td>17430.0</td>\n",
              "    </tr>\n",
              "    <tr>\n",
              "      <th>318243</th>\n",
              "      <td>1.0</td>\n",
              "      <td>6.0</td>\n",
              "      <td>2836.0</td>\n",
              "      <td>6.0</td>\n",
              "      <td>73758.0</td>\n",
              "      <td>36.0</td>\n",
              "      <td>17016.0</td>\n",
              "      <td>36.0</td>\n",
              "      <td>442548.0</td>\n",
              "      <td>8042896.0</td>\n",
              "      <td>17016.0</td>\n",
              "      <td>2.091777e+08</td>\n",
              "      <td>36.0</td>\n",
              "      <td>442548.0</td>\n",
              "      <td>5.440243e+09</td>\n",
              "      <td>0.0</td>\n",
              "      <td>1600.0</td>\n",
              "    </tr>\n",
              "    <tr>\n",
              "      <th>318244</th>\n",
              "      <td>1.0</td>\n",
              "      <td>3.0</td>\n",
              "      <td>792.0</td>\n",
              "      <td>1.0</td>\n",
              "      <td>2609.0</td>\n",
              "      <td>9.0</td>\n",
              "      <td>2376.0</td>\n",
              "      <td>3.0</td>\n",
              "      <td>7827.0</td>\n",
              "      <td>627264.0</td>\n",
              "      <td>792.0</td>\n",
              "      <td>2.066328e+06</td>\n",
              "      <td>1.0</td>\n",
              "      <td>2609.0</td>\n",
              "      <td>6.806881e+06</td>\n",
              "      <td>0.0</td>\n",
              "      <td>-444.0</td>\n",
              "    </tr>\n",
              "    <tr>\n",
              "      <th>318245</th>\n",
              "      <td>1.0</td>\n",
              "      <td>4.0</td>\n",
              "      <td>21.0</td>\n",
              "      <td>1.0</td>\n",
              "      <td>159.0</td>\n",
              "      <td>16.0</td>\n",
              "      <td>84.0</td>\n",
              "      <td>4.0</td>\n",
              "      <td>636.0</td>\n",
              "      <td>441.0</td>\n",
              "      <td>21.0</td>\n",
              "      <td>3.339000e+03</td>\n",
              "      <td>1.0</td>\n",
              "      <td>159.0</td>\n",
              "      <td>2.528100e+04</td>\n",
              "      <td>0.0</td>\n",
              "      <td>-1215.0</td>\n",
              "    </tr>\n",
              "    <tr>\n",
              "      <th>318246</th>\n",
              "      <td>1.0</td>\n",
              "      <td>8.0</td>\n",
              "      <td>347.0</td>\n",
              "      <td>1.0</td>\n",
              "      <td>5140.0</td>\n",
              "      <td>64.0</td>\n",
              "      <td>2776.0</td>\n",
              "      <td>8.0</td>\n",
              "      <td>41120.0</td>\n",
              "      <td>120409.0</td>\n",
              "      <td>347.0</td>\n",
              "      <td>1.783580e+06</td>\n",
              "      <td>1.0</td>\n",
              "      <td>5140.0</td>\n",
              "      <td>2.641960e+07</td>\n",
              "      <td>0.0</td>\n",
              "      <td>-889.0</td>\n",
              "    </tr>\n",
              "  </tbody>\n",
              "</table>\n",
              "<p>318247 rows × 17 columns</p>\n",
              "</div>"
            ],
            "text/plain": [
              "          1  Tag  Reputation  ...            V2  bn_trans   robust\n",
              "0       1.0  0.0      3942.0  ...  6.170102e+07       0.0   2706.0\n",
              "1       1.0  0.0     26046.0  ...  3.113752e+09       1.0  24810.0\n",
              "2       1.0  1.0      1358.0  ...  6.507649e+07       0.0    122.0\n",
              "3       1.0  0.0       264.0  ...  7.324601e+08       0.0   -972.0\n",
              "4       1.0  1.0      4271.0  ...  1.956082e+08       0.0   3035.0\n",
              "...     ...  ...         ...  ...           ...       ...      ...\n",
              "318242  1.0  4.0     18666.0  ...  3.477106e+08       0.0  17430.0\n",
              "318243  1.0  6.0      2836.0  ...  5.440243e+09       0.0   1600.0\n",
              "318244  1.0  3.0       792.0  ...  6.806881e+06       0.0   -444.0\n",
              "318245  1.0  4.0        21.0  ...  2.528100e+04       0.0  -1215.0\n",
              "318246  1.0  8.0       347.0  ...  2.641960e+07       0.0   -889.0\n",
              "\n",
              "[318247 rows x 17 columns]"
            ]
          },
          "metadata": {
            "tags": []
          },
          "execution_count": 100
        }
      ]
    },
    {
      "cell_type": "code",
      "metadata": {
        "id": "FFwuB95Co6Wz",
        "colab_type": "code",
        "colab": {}
      },
      "source": [
        "bn_trans = bn.transform([train['Answers']])[0]"
      ],
      "execution_count": 0,
      "outputs": []
    },
    {
      "cell_type": "code",
      "metadata": {
        "id": "syMP1sxap2mx",
        "colab_type": "code",
        "colab": {}
      },
      "source": [
        "xx[\"bn_trans\"]=bn_trans"
      ],
      "execution_count": 0,
      "outputs": []
    },
    {
      "cell_type": "code",
      "metadata": {
        "id": "eyABi9Moqhep",
        "colab_type": "code",
        "colab": {}
      },
      "source": [
        "xx[\"robust\"]=robust"
      ],
      "execution_count": 0,
      "outputs": []
    },
    {
      "cell_type": "code",
      "metadata": {
        "id": "kRW2MwSbqvPo",
        "colab_type": "code",
        "colab": {
          "base_uri": "https://localhost:8080/",
          "height": 218
        },
        "outputId": "c04bd8c1-c783-4dc1-a7d5-3fb1c82be97d"
      },
      "source": [
        "y"
      ],
      "execution_count": 105,
      "outputs": [
        {
          "output_type": "execute_result",
          "data": {
            "text/plain": [
              "0           42.0\n",
              "1         1175.0\n",
              "2           60.0\n",
              "3            9.0\n",
              "4           83.0\n",
              "           ...  \n",
              "318243     143.0\n",
              "318244       8.0\n",
              "318245       8.0\n",
              "318246       4.0\n",
              "318247       NaN\n",
              "Name: Upvotes, Length: 318248, dtype: float64"
            ]
          },
          "metadata": {
            "tags": []
          },
          "execution_count": 105
        }
      ]
    },
    {
      "cell_type": "code",
      "metadata": {
        "id": "wWzKWhMta-xl",
        "colab_type": "code",
        "colab": {}
      },
      "source": [
        "from sklearn.preprocessing import StandardScaler"
      ],
      "execution_count": 0,
      "outputs": []
    },
    {
      "cell_type": "code",
      "metadata": {
        "id": "yAfiB3y7bGQF",
        "colab_type": "code",
        "colab": {}
      },
      "source": [
        "scaler=StandardScaler()"
      ],
      "execution_count": 0,
      "outputs": []
    },
    {
      "cell_type": "code",
      "metadata": {
        "id": "SUucR1GhbfGl",
        "colab_type": "code",
        "colab": {}
      },
      "source": [
        "df=scaler.fit_transform(xx)"
      ],
      "execution_count": 0,
      "outputs": []
    },
    {
      "cell_type": "code",
      "metadata": {
        "id": "F_hT6hGxcqyY",
        "colab_type": "code",
        "colab": {}
      },
      "source": [
        "cols=xx.columns"
      ],
      "execution_count": 0,
      "outputs": []
    },
    {
      "cell_type": "code",
      "metadata": {
        "id": "qjd25EupcrXc",
        "colab_type": "code",
        "colab": {}
      },
      "source": [
        "Xtrain=pd.DataFrame(df,columns=cols)"
      ],
      "execution_count": 0,
      "outputs": []
    },
    {
      "cell_type": "code",
      "metadata": {
        "id": "w6QyRPzDdSv-",
        "colab_type": "code",
        "outputId": "90473e35-2eb6-4507-92ea-330592f37c9e",
        "colab": {
          "base_uri": "https://localhost:8080/",
          "height": 422
        }
      },
      "source": [
        "Xtrain"
      ],
      "execution_count": 112,
      "outputs": [
        {
          "output_type": "execute_result",
          "data": {
            "text/html": [
              "<div>\n",
              "<style scoped>\n",
              "    .dataframe tbody tr th:only-of-type {\n",
              "        vertical-align: middle;\n",
              "    }\n",
              "\n",
              "    .dataframe tbody tr th {\n",
              "        vertical-align: top;\n",
              "    }\n",
              "\n",
              "    .dataframe thead th {\n",
              "        text-align: right;\n",
              "    }\n",
              "</style>\n",
              "<table border=\"1\" class=\"dataframe\">\n",
              "  <thead>\n",
              "    <tr style=\"text-align: right;\">\n",
              "      <th></th>\n",
              "      <th>1</th>\n",
              "      <th>Tag</th>\n",
              "      <th>Reputation</th>\n",
              "      <th>Answers</th>\n",
              "      <th>Views</th>\n",
              "      <th>T2</th>\n",
              "      <th>TR</th>\n",
              "      <th>TA</th>\n",
              "      <th>TV</th>\n",
              "      <th>R2</th>\n",
              "      <th>RA</th>\n",
              "      <th>RV</th>\n",
              "      <th>A2</th>\n",
              "      <th>AV</th>\n",
              "      <th>V2</th>\n",
              "      <th>bn_trans</th>\n",
              "      <th>robust</th>\n",
              "    </tr>\n",
              "  </thead>\n",
              "  <tbody>\n",
              "    <tr>\n",
              "      <th>0</th>\n",
              "      <td>0.0</td>\n",
              "      <td>-1.419994</td>\n",
              "      <td>-0.141881</td>\n",
              "      <td>-0.535837</td>\n",
              "      <td>-0.268326</td>\n",
              "      <td>-0.905415</td>\n",
              "      <td>-0.239570</td>\n",
              "      <td>-0.787660</td>\n",
              "      <td>-0.286597</td>\n",
              "      <td>-0.073415</td>\n",
              "      <td>-0.162835</td>\n",
              "      <td>-0.080654</td>\n",
              "      <td>-0.288558</td>\n",
              "      <td>-0.132458</td>\n",
              "      <td>-0.052629</td>\n",
              "      <td>-0.253469</td>\n",
              "      <td>-0.141881</td>\n",
              "    </tr>\n",
              "    <tr>\n",
              "      <th>1</th>\n",
              "      <td>0.0</td>\n",
              "      <td>-1.419994</td>\n",
              "      <td>0.677674</td>\n",
              "      <td>2.262173</td>\n",
              "      <td>0.322293</td>\n",
              "      <td>-0.905415</td>\n",
              "      <td>-0.239570</td>\n",
              "      <td>-0.787660</td>\n",
              "      <td>-0.286597</td>\n",
              "      <td>-0.010398</td>\n",
              "      <td>1.551418</td>\n",
              "      <td>0.331125</td>\n",
              "      <td>1.387644</td>\n",
              "      <td>0.221880</td>\n",
              "      <td>-0.030943</td>\n",
              "      <td>3.945252</td>\n",
              "      <td>0.677674</td>\n",
              "    </tr>\n",
              "    <tr>\n",
              "      <th>2</th>\n",
              "      <td>0.0</td>\n",
              "      <td>-1.019079</td>\n",
              "      <td>-0.237688</td>\n",
              "      <td>0.023765</td>\n",
              "      <td>-0.265714</td>\n",
              "      <td>-0.857169</td>\n",
              "      <td>-0.227010</td>\n",
              "      <td>-0.550527</td>\n",
              "      <td>-0.264052</td>\n",
              "      <td>-0.074717</td>\n",
              "      <td>-0.176631</td>\n",
              "      <td>-0.086447</td>\n",
              "      <td>-0.144884</td>\n",
              "      <td>-0.123486</td>\n",
              "      <td>-0.052605</td>\n",
              "      <td>-0.253469</td>\n",
              "      <td>-0.237688</td>\n",
              "    </tr>\n",
              "    <tr>\n",
              "      <th>3</th>\n",
              "      <td>0.0</td>\n",
              "      <td>-1.419994</td>\n",
              "      <td>-0.278251</td>\n",
              "      <td>-0.256036</td>\n",
              "      <td>-0.031702</td>\n",
              "      <td>-0.905415</td>\n",
              "      <td>-0.239570</td>\n",
              "      <td>-0.787660</td>\n",
              "      <td>-0.286597</td>\n",
              "      <td>-0.074885</td>\n",
              "      <td>-0.202739</td>\n",
              "      <td>-0.087550</td>\n",
              "      <td>-0.228694</td>\n",
              "      <td>-0.096975</td>\n",
              "      <td>-0.047863</td>\n",
              "      <td>-0.253469</td>\n",
              "      <td>-0.278251</td>\n",
              "    </tr>\n",
              "    <tr>\n",
              "      <th>4</th>\n",
              "      <td>0.0</td>\n",
              "      <td>-1.019079</td>\n",
              "      <td>-0.129682</td>\n",
              "      <td>0.023765</td>\n",
              "      <td>-0.192802</td>\n",
              "      <td>-0.857169</td>\n",
              "      <td>-0.200069</td>\n",
              "      <td>-0.550527</td>\n",
              "      <td>-0.247510</td>\n",
              "      <td>-0.073158</td>\n",
              "      <td>-0.111070</td>\n",
              "      <td>-0.072325</td>\n",
              "      <td>-0.144884</td>\n",
              "      <td>-0.110656</td>\n",
              "      <td>-0.051678</td>\n",
              "      <td>-0.253469</td>\n",
              "      <td>-0.129682</td>\n",
              "    </tr>\n",
              "    <tr>\n",
              "      <th>...</th>\n",
              "      <td>...</td>\n",
              "      <td>...</td>\n",
              "      <td>...</td>\n",
              "      <td>...</td>\n",
              "      <td>...</td>\n",
              "      <td>...</td>\n",
              "      <td>...</td>\n",
              "      <td>...</td>\n",
              "      <td>...</td>\n",
              "      <td>...</td>\n",
              "      <td>...</td>\n",
              "      <td>...</td>\n",
              "      <td>...</td>\n",
              "      <td>...</td>\n",
              "      <td>...</td>\n",
              "      <td>...</td>\n",
              "      <td>...</td>\n",
              "    </tr>\n",
              "    <tr>\n",
              "      <th>318242</th>\n",
              "      <td>0.0</td>\n",
              "      <td>0.183667</td>\n",
              "      <td>0.404044</td>\n",
              "      <td>1.422770</td>\n",
              "      <td>-0.135386</td>\n",
              "      <td>-0.133470</td>\n",
              "      <td>0.450967</td>\n",
              "      <td>1.346530</td>\n",
              "      <td>-0.078144</td>\n",
              "      <td>-0.041768</td>\n",
              "      <td>0.738044</td>\n",
              "      <td>0.011144</td>\n",
              "      <td>0.633353</td>\n",
              "      <td>-0.050031</td>\n",
              "      <td>-0.050597</td>\n",
              "      <td>-0.253469</td>\n",
              "      <td>0.404044</td>\n",
              "    </tr>\n",
              "    <tr>\n",
              "      <th>318243</th>\n",
              "      <td>0.0</td>\n",
              "      <td>0.985497</td>\n",
              "      <td>-0.182888</td>\n",
              "      <td>0.583367</td>\n",
              "      <td>0.543495</td>\n",
              "      <td>0.831461</td>\n",
              "      <td>-0.082196</td>\n",
              "      <td>1.346530</td>\n",
              "      <td>0.950205</td>\n",
              "      <td>-0.074127</td>\n",
              "      <td>-0.111453</td>\n",
              "      <td>-0.029063</td>\n",
              "      <td>0.094574</td>\n",
              "      <td>0.098838</td>\n",
              "      <td>-0.014412</td>\n",
              "      <td>-0.253469</td>\n",
              "      <td>-0.182888</td>\n",
              "    </tr>\n",
              "    <tr>\n",
              "      <th>318244</th>\n",
              "      <td>0.0</td>\n",
              "      <td>-0.217248</td>\n",
              "      <td>-0.258674</td>\n",
              "      <td>-0.815638</td>\n",
              "      <td>-0.332948</td>\n",
              "      <td>-0.471196</td>\n",
              "      <td>-0.217595</td>\n",
              "      <td>-0.609811</td>\n",
              "      <td>-0.264723</td>\n",
              "      <td>-0.074832</td>\n",
              "      <td>-0.202739</td>\n",
              "      <td>-0.089020</td>\n",
              "      <td>-0.324477</td>\n",
              "      <td>-0.139557</td>\n",
              "      <td>-0.053019</td>\n",
              "      <td>-0.253469</td>\n",
              "      <td>-0.258674</td>\n",
              "    </tr>\n",
              "    <tr>\n",
              "      <th>318245</th>\n",
              "      <td>0.0</td>\n",
              "      <td>0.183667</td>\n",
              "      <td>-0.287261</td>\n",
              "      <td>-0.815638</td>\n",
              "      <td>-0.363129</td>\n",
              "      <td>-0.133470</td>\n",
              "      <td>-0.238793</td>\n",
              "      <td>-0.550527</td>\n",
              "      <td>-0.284820</td>\n",
              "      <td>-0.074892</td>\n",
              "      <td>-0.207077</td>\n",
              "      <td>-0.089617</td>\n",
              "      <td>-0.324477</td>\n",
              "      <td>-0.140885</td>\n",
              "      <td>-0.053068</td>\n",
              "      <td>-0.253469</td>\n",
              "      <td>-0.287261</td>\n",
              "    </tr>\n",
              "    <tr>\n",
              "      <th>318246</th>\n",
              "      <td>0.0</td>\n",
              "      <td>1.787327</td>\n",
              "      <td>-0.275173</td>\n",
              "      <td>-0.815638</td>\n",
              "      <td>-0.301771</td>\n",
              "      <td>2.182365</td>\n",
              "      <td>-0.213896</td>\n",
              "      <td>-0.313395</td>\n",
              "      <td>-0.171678</td>\n",
              "      <td>-0.074881</td>\n",
              "      <td>-0.205243</td>\n",
              "      <td>-0.089102</td>\n",
              "      <td>-0.324477</td>\n",
              "      <td>-0.138186</td>\n",
              "      <td>-0.052880</td>\n",
              "      <td>-0.253469</td>\n",
              "      <td>-0.275173</td>\n",
              "    </tr>\n",
              "  </tbody>\n",
              "</table>\n",
              "<p>318247 rows × 17 columns</p>\n",
              "</div>"
            ],
            "text/plain": [
              "          1       Tag  Reputation  ...        V2  bn_trans    robust\n",
              "0       0.0 -1.419994   -0.141881  ... -0.052629 -0.253469 -0.141881\n",
              "1       0.0 -1.419994    0.677674  ... -0.030943  3.945252  0.677674\n",
              "2       0.0 -1.019079   -0.237688  ... -0.052605 -0.253469 -0.237688\n",
              "3       0.0 -1.419994   -0.278251  ... -0.047863 -0.253469 -0.278251\n",
              "4       0.0 -1.019079   -0.129682  ... -0.051678 -0.253469 -0.129682\n",
              "...     ...       ...         ...  ...       ...       ...       ...\n",
              "318242  0.0  0.183667    0.404044  ... -0.050597 -0.253469  0.404044\n",
              "318243  0.0  0.985497   -0.182888  ... -0.014412 -0.253469 -0.182888\n",
              "318244  0.0 -0.217248   -0.258674  ... -0.053019 -0.253469 -0.258674\n",
              "318245  0.0  0.183667   -0.287261  ... -0.053068 -0.253469 -0.287261\n",
              "318246  0.0  1.787327   -0.275173  ... -0.052880 -0.253469 -0.275173\n",
              "\n",
              "[318247 rows x 17 columns]"
            ]
          },
          "metadata": {
            "tags": []
          },
          "execution_count": 112
        }
      ]
    },
    {
      "cell_type": "code",
      "metadata": {
        "id": "uBgb7K22eTAN",
        "colab_type": "code",
        "colab": {}
      },
      "source": [
        "from sklearn.model_selection import train_test_split"
      ],
      "execution_count": 0,
      "outputs": []
    },
    {
      "cell_type": "code",
      "metadata": {
        "id": "d5iYE8MyeXqJ",
        "colab_type": "code",
        "colab": {}
      },
      "source": [
        "X_train, X_valid, y_train, y_valid = train_test_split(Xtrain,y,test_size=.3,random_state=42)"
      ],
      "execution_count": 0,
      "outputs": []
    },
    {
      "cell_type": "code",
      "metadata": {
        "id": "8C6n5Yp7fHyG",
        "colab_type": "code",
        "colab": {}
      },
      "source": [
        "from sklearn.linear_model import LinearRegression"
      ],
      "execution_count": 0,
      "outputs": []
    },
    {
      "cell_type": "code",
      "metadata": {
        "id": "yDU1IQxHf7Cj",
        "colab_type": "code",
        "colab": {}
      },
      "source": [
        "model=LinearRegression()"
      ],
      "execution_count": 0,
      "outputs": []
    },
    {
      "cell_type": "code",
      "metadata": {
        "id": "IAbEt-BGgBIF",
        "colab_type": "code",
        "outputId": "9524577a-c591-47ca-e1dd-4dc256492412",
        "colab": {
          "base_uri": "https://localhost:8080/",
          "height": 34
        }
      },
      "source": [
        "model.fit(X_train,y_train)"
      ],
      "execution_count": 254,
      "outputs": [
        {
          "output_type": "execute_result",
          "data": {
            "text/plain": [
              "LinearRegression(copy_X=True, fit_intercept=True, n_jobs=None, normalize=False)"
            ]
          },
          "metadata": {
            "tags": []
          },
          "execution_count": 254
        }
      ]
    },
    {
      "cell_type": "code",
      "metadata": {
        "id": "z7ucoywawhHz",
        "colab_type": "code",
        "colab": {}
      },
      "source": [
        ""
      ],
      "execution_count": 0,
      "outputs": []
    },
    {
      "cell_type": "code",
      "metadata": {
        "id": "QFPAslb2kbT4",
        "colab_type": "code",
        "colab": {}
      },
      "source": [
        "train_pred=model.predict(X_valid)"
      ],
      "execution_count": 0,
      "outputs": []
    },
    {
      "cell_type": "code",
      "metadata": {
        "id": "dyD45T7Kr5A7",
        "colab_type": "code",
        "colab": {}
      },
      "source": [
        "from sklearn.metrics import r2_score"
      ],
      "execution_count": 0,
      "outputs": []
    },
    {
      "cell_type": "code",
      "metadata": {
        "id": "ScJVUQknlUoH",
        "colab_type": "code",
        "colab": {
          "base_uri": "https://localhost:8080/",
          "height": 34
        },
        "outputId": "0ef8ff69-bfd8-4769-a81d-7e2ac3d0eb20"
      },
      "source": [
        "r2_score(y_valid, train_pred)"
      ],
      "execution_count": 256,
      "outputs": [
        {
          "output_type": "execute_result",
          "data": {
            "text/plain": [
              "0.8736875196316902"
            ]
          },
          "metadata": {
            "tags": []
          },
          "execution_count": 256
        }
      ]
    },
    {
      "cell_type": "code",
      "metadata": {
        "id": "FZedsvM03t9T",
        "colab_type": "code",
        "colab": {}
      },
      "source": [
        "from sklearn.metrics import mean_absolute_error\n"
      ],
      "execution_count": 0,
      "outputs": []
    },
    {
      "cell_type": "code",
      "metadata": {
        "id": "Ql1d-h0D4LGP",
        "colab_type": "code",
        "colab": {
          "base_uri": "https://localhost:8080/",
          "height": 34
        },
        "outputId": "7d66780f-293b-40ba-e1bb-959c83ea330d"
      },
      "source": [
        "mean_absolute_error(y_valid, train_pred)"
      ],
      "execution_count": 257,
      "outputs": [
        {
          "output_type": "execute_result",
          "data": {
            "text/plain": [
              "109.65009590349463"
            ]
          },
          "metadata": {
            "tags": []
          },
          "execution_count": 257
        }
      ]
    },
    {
      "cell_type": "code",
      "metadata": {
        "id": "2G8uSz2Iwi5h",
        "colab_type": "code",
        "colab": {
          "base_uri": "https://localhost:8080/",
          "height": 34
        },
        "outputId": "36642767-74bd-43fc-9924-ac0f77b0f7ec"
      },
      "source": [
        "train_pred[0]"
      ],
      "execution_count": 206,
      "outputs": [
        {
          "output_type": "execute_result",
          "data": {
            "text/plain": [
              "154.7601052367451"
            ]
          },
          "metadata": {
            "tags": []
          },
          "execution_count": 206
        }
      ]
    },
    {
      "cell_type": "code",
      "metadata": {
        "id": "4GpLVo3JcrQG",
        "colab_type": "code",
        "colab": {
          "base_uri": "https://localhost:8080/",
          "height": 101
        },
        "outputId": "19b57193-88a9-4bf5-fbe1-8977e31048f4"
      },
      "source": [
        "model.coef_"
      ],
      "execution_count": 207,
      "outputs": [
        {
          "output_type": "execute_result",
          "data": {
            "text/plain": [
              "array([   0.        ,    0.        ,    0.        ,    0.        ,\n",
              "          0.        ,    0.        ,   -3.85581366,    0.        ,\n",
              "          0.        ,    0.        ,   -4.07617129, 3434.8500427 ,\n",
              "          0.        ,    0.        ,   98.07692038,    0.        ,\n",
              "          0.        ])"
            ]
          },
          "metadata": {
            "tags": []
          },
          "execution_count": 207
        }
      ]
    },
    {
      "cell_type": "code",
      "metadata": {
        "id": "-arIZlOXsvQE",
        "colab_type": "code",
        "colab": {}
      },
      "source": [
        "features=pd.DataFrame(model.coef_)"
      ],
      "execution_count": 0,
      "outputs": []
    },
    {
      "cell_type": "code",
      "metadata": {
        "id": "GJTgvAaGuhUm",
        "colab_type": "code",
        "colab": {}
      },
      "source": [
        "features[\"name\"]=cols"
      ],
      "execution_count": 0,
      "outputs": []
    },
    {
      "cell_type": "code",
      "metadata": {
        "id": "nGJd3BBWuiab",
        "colab_type": "code",
        "colab": {
          "base_uri": "https://localhost:8080/",
          "height": 550
        },
        "outputId": "e61ad06d-f19d-41df-f8bc-d604b9a945bb"
      },
      "source": [
        "features"
      ],
      "execution_count": 210,
      "outputs": [
        {
          "output_type": "execute_result",
          "data": {
            "text/html": [
              "<div>\n",
              "<style scoped>\n",
              "    .dataframe tbody tr th:only-of-type {\n",
              "        vertical-align: middle;\n",
              "    }\n",
              "\n",
              "    .dataframe tbody tr th {\n",
              "        vertical-align: top;\n",
              "    }\n",
              "\n",
              "    .dataframe thead th {\n",
              "        text-align: right;\n",
              "    }\n",
              "</style>\n",
              "<table border=\"1\" class=\"dataframe\">\n",
              "  <thead>\n",
              "    <tr style=\"text-align: right;\">\n",
              "      <th></th>\n",
              "      <th>0</th>\n",
              "      <th>name</th>\n",
              "    </tr>\n",
              "  </thead>\n",
              "  <tbody>\n",
              "    <tr>\n",
              "      <th>0</th>\n",
              "      <td>0.000000</td>\n",
              "      <td>1</td>\n",
              "    </tr>\n",
              "    <tr>\n",
              "      <th>1</th>\n",
              "      <td>0.000000</td>\n",
              "      <td>Tag</td>\n",
              "    </tr>\n",
              "    <tr>\n",
              "      <th>2</th>\n",
              "      <td>0.000000</td>\n",
              "      <td>Reputation</td>\n",
              "    </tr>\n",
              "    <tr>\n",
              "      <th>3</th>\n",
              "      <td>0.000000</td>\n",
              "      <td>Answers</td>\n",
              "    </tr>\n",
              "    <tr>\n",
              "      <th>4</th>\n",
              "      <td>0.000000</td>\n",
              "      <td>Views</td>\n",
              "    </tr>\n",
              "    <tr>\n",
              "      <th>5</th>\n",
              "      <td>0.000000</td>\n",
              "      <td>T2</td>\n",
              "    </tr>\n",
              "    <tr>\n",
              "      <th>6</th>\n",
              "      <td>-3.855814</td>\n",
              "      <td>TR</td>\n",
              "    </tr>\n",
              "    <tr>\n",
              "      <th>7</th>\n",
              "      <td>0.000000</td>\n",
              "      <td>TA</td>\n",
              "    </tr>\n",
              "    <tr>\n",
              "      <th>8</th>\n",
              "      <td>0.000000</td>\n",
              "      <td>TV</td>\n",
              "    </tr>\n",
              "    <tr>\n",
              "      <th>9</th>\n",
              "      <td>0.000000</td>\n",
              "      <td>R2</td>\n",
              "    </tr>\n",
              "    <tr>\n",
              "      <th>10</th>\n",
              "      <td>-4.076171</td>\n",
              "      <td>RA</td>\n",
              "    </tr>\n",
              "    <tr>\n",
              "      <th>11</th>\n",
              "      <td>3434.850043</td>\n",
              "      <td>RV</td>\n",
              "    </tr>\n",
              "    <tr>\n",
              "      <th>12</th>\n",
              "      <td>0.000000</td>\n",
              "      <td>A2</td>\n",
              "    </tr>\n",
              "    <tr>\n",
              "      <th>13</th>\n",
              "      <td>0.000000</td>\n",
              "      <td>AV</td>\n",
              "    </tr>\n",
              "    <tr>\n",
              "      <th>14</th>\n",
              "      <td>98.076920</td>\n",
              "      <td>V2</td>\n",
              "    </tr>\n",
              "    <tr>\n",
              "      <th>15</th>\n",
              "      <td>0.000000</td>\n",
              "      <td>bn_trans</td>\n",
              "    </tr>\n",
              "    <tr>\n",
              "      <th>16</th>\n",
              "      <td>0.000000</td>\n",
              "      <td>robust</td>\n",
              "    </tr>\n",
              "  </tbody>\n",
              "</table>\n",
              "</div>"
            ],
            "text/plain": [
              "              0        name\n",
              "0      0.000000           1\n",
              "1      0.000000         Tag\n",
              "2      0.000000  Reputation\n",
              "3      0.000000     Answers\n",
              "4      0.000000       Views\n",
              "5      0.000000          T2\n",
              "6     -3.855814          TR\n",
              "7      0.000000          TA\n",
              "8      0.000000          TV\n",
              "9      0.000000          R2\n",
              "10    -4.076171          RA\n",
              "11  3434.850043          RV\n",
              "12     0.000000          A2\n",
              "13     0.000000          AV\n",
              "14    98.076920          V2\n",
              "15     0.000000    bn_trans\n",
              "16     0.000000      robust"
            ]
          },
          "metadata": {
            "tags": []
          },
          "execution_count": 210
        }
      ]
    },
    {
      "cell_type": "code",
      "metadata": {
        "id": "L-ZCm0Z4unLG",
        "colab_type": "code",
        "colab": {
          "base_uri": "https://localhost:8080/",
          "height": 402
        },
        "outputId": "c2ebe32d-3d00-46ec-d913-89560d4f35e2"
      },
      "source": [
        "test"
      ],
      "execution_count": 166,
      "outputs": [
        {
          "output_type": "execute_result",
          "data": {
            "text/html": [
              "<div>\n",
              "<style scoped>\n",
              "    .dataframe tbody tr th:only-of-type {\n",
              "        vertical-align: middle;\n",
              "    }\n",
              "\n",
              "    .dataframe tbody tr th {\n",
              "        vertical-align: top;\n",
              "    }\n",
              "\n",
              "    .dataframe thead th {\n",
              "        text-align: right;\n",
              "    }\n",
              "</style>\n",
              "<table border=\"1\" class=\"dataframe\">\n",
              "  <thead>\n",
              "    <tr style=\"text-align: right;\">\n",
              "      <th></th>\n",
              "      <th>Tag</th>\n",
              "      <th>Reputation</th>\n",
              "      <th>Answers</th>\n",
              "      <th>Views</th>\n",
              "    </tr>\n",
              "  </thead>\n",
              "  <tbody>\n",
              "    <tr>\n",
              "      <th>0</th>\n",
              "      <td>0</td>\n",
              "      <td>5645.0</td>\n",
              "      <td>3.0</td>\n",
              "      <td>33200.0</td>\n",
              "    </tr>\n",
              "    <tr>\n",
              "      <th>1</th>\n",
              "      <td>1</td>\n",
              "      <td>24511.0</td>\n",
              "      <td>6.0</td>\n",
              "      <td>2730.0</td>\n",
              "    </tr>\n",
              "    <tr>\n",
              "      <th>2</th>\n",
              "      <td>3</td>\n",
              "      <td>927.0</td>\n",
              "      <td>1.0</td>\n",
              "      <td>21167.0</td>\n",
              "    </tr>\n",
              "    <tr>\n",
              "      <th>3</th>\n",
              "      <td>3</td>\n",
              "      <td>21.0</td>\n",
              "      <td>6.0</td>\n",
              "      <td>18528.0</td>\n",
              "    </tr>\n",
              "    <tr>\n",
              "      <th>4</th>\n",
              "      <td>3</td>\n",
              "      <td>4475.0</td>\n",
              "      <td>10.0</td>\n",
              "      <td>57240.0</td>\n",
              "    </tr>\n",
              "    <tr>\n",
              "      <th>...</th>\n",
              "      <td>...</td>\n",
              "      <td>...</td>\n",
              "      <td>...</td>\n",
              "      <td>...</td>\n",
              "    </tr>\n",
              "    <tr>\n",
              "      <th>141443</th>\n",
              "      <td>4</td>\n",
              "      <td>4681.0</td>\n",
              "      <td>4.0</td>\n",
              "      <td>2469.0</td>\n",
              "    </tr>\n",
              "    <tr>\n",
              "      <th>141444</th>\n",
              "      <td>4</td>\n",
              "      <td>7782.0</td>\n",
              "      <td>3.0</td>\n",
              "      <td>18998.0</td>\n",
              "    </tr>\n",
              "    <tr>\n",
              "      <th>141445</th>\n",
              "      <td>6</td>\n",
              "      <td>435.0</td>\n",
              "      <td>5.0</td>\n",
              "      <td>57048.0</td>\n",
              "    </tr>\n",
              "    <tr>\n",
              "      <th>141446</th>\n",
              "      <td>5</td>\n",
              "      <td>176.0</td>\n",
              "      <td>3.0</td>\n",
              "      <td>10193.0</td>\n",
              "    </tr>\n",
              "    <tr>\n",
              "      <th>141447</th>\n",
              "      <td>0</td>\n",
              "      <td>648.0</td>\n",
              "      <td>2.0</td>\n",
              "      <td>12785.0</td>\n",
              "    </tr>\n",
              "  </tbody>\n",
              "</table>\n",
              "<p>141448 rows × 4 columns</p>\n",
              "</div>"
            ],
            "text/plain": [
              "        Tag  Reputation  Answers    Views\n",
              "0         0      5645.0      3.0  33200.0\n",
              "1         1     24511.0      6.0   2730.0\n",
              "2         3       927.0      1.0  21167.0\n",
              "3         3        21.0      6.0  18528.0\n",
              "4         3      4475.0     10.0  57240.0\n",
              "...     ...         ...      ...      ...\n",
              "141443    4      4681.0      4.0   2469.0\n",
              "141444    4      7782.0      3.0  18998.0\n",
              "141445    6       435.0      5.0  57048.0\n",
              "141446    5       176.0      3.0  10193.0\n",
              "141447    0       648.0      2.0  12785.0\n",
              "\n",
              "[141448 rows x 4 columns]"
            ]
          },
          "metadata": {
            "tags": []
          },
          "execution_count": 166
        }
      ]
    },
    {
      "cell_type": "code",
      "metadata": {
        "id": "h5sJVb0qu_Wd",
        "colab_type": "code",
        "colab": {}
      },
      "source": [
        "test.drop([\"ID\",\"Username\"],axis=1,inplace=True)"
      ],
      "execution_count": 0,
      "outputs": []
    },
    {
      "cell_type": "code",
      "metadata": {
        "id": "UX8TksYDvH8j",
        "colab_type": "code",
        "colab": {}
      },
      "source": [
        "test[\"Tag\"]=le.fit_transform(test[\"Tag\"])"
      ],
      "execution_count": 0,
      "outputs": []
    },
    {
      "cell_type": "code",
      "metadata": {
        "id": "GeEp0NhJvXms",
        "colab_type": "code",
        "colab": {}
      },
      "source": [
        "T_poly = poly_reg.fit_transform(test)"
      ],
      "execution_count": 0,
      "outputs": []
    },
    {
      "cell_type": "code",
      "metadata": {
        "id": "hG2ihCpJvlSp",
        "colab_type": "code",
        "colab": {}
      },
      "source": [
        "tt=pd.DataFrame(T_poly,columns=col)"
      ],
      "execution_count": 0,
      "outputs": []
    },
    {
      "cell_type": "code",
      "metadata": {
        "id": "8a-nRv9LvvA0",
        "colab_type": "code",
        "colab": {
          "base_uri": "https://localhost:8080/",
          "height": 422
        },
        "outputId": "d22e86bf-634c-4225-dc8d-c9ec14cba66b"
      },
      "source": [
        "tt"
      ],
      "execution_count": 175,
      "outputs": [
        {
          "output_type": "execute_result",
          "data": {
            "text/html": [
              "<div>\n",
              "<style scoped>\n",
              "    .dataframe tbody tr th:only-of-type {\n",
              "        vertical-align: middle;\n",
              "    }\n",
              "\n",
              "    .dataframe tbody tr th {\n",
              "        vertical-align: top;\n",
              "    }\n",
              "\n",
              "    .dataframe thead th {\n",
              "        text-align: right;\n",
              "    }\n",
              "</style>\n",
              "<table border=\"1\" class=\"dataframe\">\n",
              "  <thead>\n",
              "    <tr style=\"text-align: right;\">\n",
              "      <th></th>\n",
              "      <th>1</th>\n",
              "      <th>Tag</th>\n",
              "      <th>Reputation</th>\n",
              "      <th>Answers</th>\n",
              "      <th>Views</th>\n",
              "      <th>T2</th>\n",
              "      <th>TR</th>\n",
              "      <th>TA</th>\n",
              "      <th>TV</th>\n",
              "      <th>R2</th>\n",
              "      <th>RA</th>\n",
              "      <th>RV</th>\n",
              "      <th>A2</th>\n",
              "      <th>AV</th>\n",
              "      <th>V2</th>\n",
              "      <th>bn_trans</th>\n",
              "      <th>robust</th>\n",
              "    </tr>\n",
              "  </thead>\n",
              "  <tbody>\n",
              "    <tr>\n",
              "      <th>0</th>\n",
              "      <td>1.0</td>\n",
              "      <td>0.0</td>\n",
              "      <td>5645.0</td>\n",
              "      <td>3.0</td>\n",
              "      <td>33200.0</td>\n",
              "      <td>0.0</td>\n",
              "      <td>0.0</td>\n",
              "      <td>0.0</td>\n",
              "      <td>0.0</td>\n",
              "      <td>31866025.0</td>\n",
              "      <td>16935.0</td>\n",
              "      <td>187414000.0</td>\n",
              "      <td>9.0</td>\n",
              "      <td>99600.0</td>\n",
              "      <td>1.102240e+09</td>\n",
              "      <td>0.0</td>\n",
              "      <td>4400.0</td>\n",
              "    </tr>\n",
              "    <tr>\n",
              "      <th>1</th>\n",
              "      <td>1.0</td>\n",
              "      <td>1.0</td>\n",
              "      <td>24511.0</td>\n",
              "      <td>6.0</td>\n",
              "      <td>2730.0</td>\n",
              "      <td>1.0</td>\n",
              "      <td>24511.0</td>\n",
              "      <td>6.0</td>\n",
              "      <td>2730.0</td>\n",
              "      <td>600789121.0</td>\n",
              "      <td>147066.0</td>\n",
              "      <td>66915030.0</td>\n",
              "      <td>36.0</td>\n",
              "      <td>16380.0</td>\n",
              "      <td>7.452900e+06</td>\n",
              "      <td>0.0</td>\n",
              "      <td>23266.0</td>\n",
              "    </tr>\n",
              "    <tr>\n",
              "      <th>2</th>\n",
              "      <td>1.0</td>\n",
              "      <td>3.0</td>\n",
              "      <td>927.0</td>\n",
              "      <td>1.0</td>\n",
              "      <td>21167.0</td>\n",
              "      <td>9.0</td>\n",
              "      <td>2781.0</td>\n",
              "      <td>3.0</td>\n",
              "      <td>63501.0</td>\n",
              "      <td>859329.0</td>\n",
              "      <td>927.0</td>\n",
              "      <td>19621809.0</td>\n",
              "      <td>1.0</td>\n",
              "      <td>21167.0</td>\n",
              "      <td>4.480419e+08</td>\n",
              "      <td>0.0</td>\n",
              "      <td>-318.0</td>\n",
              "    </tr>\n",
              "    <tr>\n",
              "      <th>3</th>\n",
              "      <td>1.0</td>\n",
              "      <td>3.0</td>\n",
              "      <td>21.0</td>\n",
              "      <td>6.0</td>\n",
              "      <td>18528.0</td>\n",
              "      <td>9.0</td>\n",
              "      <td>63.0</td>\n",
              "      <td>18.0</td>\n",
              "      <td>55584.0</td>\n",
              "      <td>441.0</td>\n",
              "      <td>126.0</td>\n",
              "      <td>389088.0</td>\n",
              "      <td>36.0</td>\n",
              "      <td>111168.0</td>\n",
              "      <td>3.432868e+08</td>\n",
              "      <td>0.0</td>\n",
              "      <td>-1224.0</td>\n",
              "    </tr>\n",
              "    <tr>\n",
              "      <th>4</th>\n",
              "      <td>1.0</td>\n",
              "      <td>3.0</td>\n",
              "      <td>4475.0</td>\n",
              "      <td>10.0</td>\n",
              "      <td>57240.0</td>\n",
              "      <td>9.0</td>\n",
              "      <td>13425.0</td>\n",
              "      <td>30.0</td>\n",
              "      <td>171720.0</td>\n",
              "      <td>20025625.0</td>\n",
              "      <td>44750.0</td>\n",
              "      <td>256149000.0</td>\n",
              "      <td>100.0</td>\n",
              "      <td>572400.0</td>\n",
              "      <td>3.276418e+09</td>\n",
              "      <td>1.0</td>\n",
              "      <td>3230.0</td>\n",
              "    </tr>\n",
              "    <tr>\n",
              "      <th>...</th>\n",
              "      <td>...</td>\n",
              "      <td>...</td>\n",
              "      <td>...</td>\n",
              "      <td>...</td>\n",
              "      <td>...</td>\n",
              "      <td>...</td>\n",
              "      <td>...</td>\n",
              "      <td>...</td>\n",
              "      <td>...</td>\n",
              "      <td>...</td>\n",
              "      <td>...</td>\n",
              "      <td>...</td>\n",
              "      <td>...</td>\n",
              "      <td>...</td>\n",
              "      <td>...</td>\n",
              "      <td>...</td>\n",
              "      <td>...</td>\n",
              "    </tr>\n",
              "    <tr>\n",
              "      <th>141443</th>\n",
              "      <td>1.0</td>\n",
              "      <td>4.0</td>\n",
              "      <td>4681.0</td>\n",
              "      <td>4.0</td>\n",
              "      <td>2469.0</td>\n",
              "      <td>16.0</td>\n",
              "      <td>18724.0</td>\n",
              "      <td>16.0</td>\n",
              "      <td>9876.0</td>\n",
              "      <td>21911761.0</td>\n",
              "      <td>18724.0</td>\n",
              "      <td>11557389.0</td>\n",
              "      <td>16.0</td>\n",
              "      <td>9876.0</td>\n",
              "      <td>6.095961e+06</td>\n",
              "      <td>0.0</td>\n",
              "      <td>3436.0</td>\n",
              "    </tr>\n",
              "    <tr>\n",
              "      <th>141444</th>\n",
              "      <td>1.0</td>\n",
              "      <td>4.0</td>\n",
              "      <td>7782.0</td>\n",
              "      <td>3.0</td>\n",
              "      <td>18998.0</td>\n",
              "      <td>16.0</td>\n",
              "      <td>31128.0</td>\n",
              "      <td>12.0</td>\n",
              "      <td>75992.0</td>\n",
              "      <td>60559524.0</td>\n",
              "      <td>23346.0</td>\n",
              "      <td>147842436.0</td>\n",
              "      <td>9.0</td>\n",
              "      <td>56994.0</td>\n",
              "      <td>3.609240e+08</td>\n",
              "      <td>0.0</td>\n",
              "      <td>6537.0</td>\n",
              "    </tr>\n",
              "    <tr>\n",
              "      <th>141445</th>\n",
              "      <td>1.0</td>\n",
              "      <td>6.0</td>\n",
              "      <td>435.0</td>\n",
              "      <td>5.0</td>\n",
              "      <td>57048.0</td>\n",
              "      <td>36.0</td>\n",
              "      <td>2610.0</td>\n",
              "      <td>30.0</td>\n",
              "      <td>342288.0</td>\n",
              "      <td>189225.0</td>\n",
              "      <td>2175.0</td>\n",
              "      <td>24815880.0</td>\n",
              "      <td>25.0</td>\n",
              "      <td>285240.0</td>\n",
              "      <td>3.254474e+09</td>\n",
              "      <td>0.0</td>\n",
              "      <td>-810.0</td>\n",
              "    </tr>\n",
              "    <tr>\n",
              "      <th>141446</th>\n",
              "      <td>1.0</td>\n",
              "      <td>5.0</td>\n",
              "      <td>176.0</td>\n",
              "      <td>3.0</td>\n",
              "      <td>10193.0</td>\n",
              "      <td>25.0</td>\n",
              "      <td>880.0</td>\n",
              "      <td>15.0</td>\n",
              "      <td>50965.0</td>\n",
              "      <td>30976.0</td>\n",
              "      <td>528.0</td>\n",
              "      <td>1793968.0</td>\n",
              "      <td>9.0</td>\n",
              "      <td>30579.0</td>\n",
              "      <td>1.038972e+08</td>\n",
              "      <td>0.0</td>\n",
              "      <td>-1069.0</td>\n",
              "    </tr>\n",
              "    <tr>\n",
              "      <th>141447</th>\n",
              "      <td>1.0</td>\n",
              "      <td>0.0</td>\n",
              "      <td>648.0</td>\n",
              "      <td>2.0</td>\n",
              "      <td>12785.0</td>\n",
              "      <td>0.0</td>\n",
              "      <td>0.0</td>\n",
              "      <td>0.0</td>\n",
              "      <td>0.0</td>\n",
              "      <td>419904.0</td>\n",
              "      <td>1296.0</td>\n",
              "      <td>8284680.0</td>\n",
              "      <td>4.0</td>\n",
              "      <td>25570.0</td>\n",
              "      <td>1.634562e+08</td>\n",
              "      <td>0.0</td>\n",
              "      <td>-597.0</td>\n",
              "    </tr>\n",
              "  </tbody>\n",
              "</table>\n",
              "<p>141448 rows × 17 columns</p>\n",
              "</div>"
            ],
            "text/plain": [
              "          1  Tag  Reputation  ...            V2  bn_trans   robust\n",
              "0       1.0  0.0      5645.0  ...  1.102240e+09       0.0   4400.0\n",
              "1       1.0  1.0     24511.0  ...  7.452900e+06       0.0  23266.0\n",
              "2       1.0  3.0       927.0  ...  4.480419e+08       0.0   -318.0\n",
              "3       1.0  3.0        21.0  ...  3.432868e+08       0.0  -1224.0\n",
              "4       1.0  3.0      4475.0  ...  3.276418e+09       1.0   3230.0\n",
              "...     ...  ...         ...  ...           ...       ...      ...\n",
              "141443  1.0  4.0      4681.0  ...  6.095961e+06       0.0   3436.0\n",
              "141444  1.0  4.0      7782.0  ...  3.609240e+08       0.0   6537.0\n",
              "141445  1.0  6.0       435.0  ...  3.254474e+09       0.0   -810.0\n",
              "141446  1.0  5.0       176.0  ...  1.038972e+08       0.0  -1069.0\n",
              "141447  1.0  0.0       648.0  ...  1.634562e+08       0.0   -597.0\n",
              "\n",
              "[141448 rows x 17 columns]"
            ]
          },
          "metadata": {
            "tags": []
          },
          "execution_count": 175
        }
      ]
    },
    {
      "cell_type": "code",
      "metadata": {
        "id": "2DR67Bldv7XF",
        "colab_type": "code",
        "colab": {}
      },
      "source": [
        "tt[\"bn_trans\"] = bn.transform([tt['Answers']])[0]"
      ],
      "execution_count": 0,
      "outputs": []
    },
    {
      "cell_type": "code",
      "metadata": {
        "id": "un3OGP-nvv6s",
        "colab_type": "code",
        "colab": {}
      },
      "source": [
        "tt[\"robust\"]=robust.fit_transform(tt.Reputation.values.reshape(-1,1))"
      ],
      "execution_count": 0,
      "outputs": []
    },
    {
      "cell_type": "code",
      "metadata": {
        "id": "VaLMEqJMxw_h",
        "colab_type": "code",
        "colab": {}
      },
      "source": [
        "dt=scaler.fit_transform(tt)"
      ],
      "execution_count": 0,
      "outputs": []
    },
    {
      "cell_type": "code",
      "metadata": {
        "id": "ZveYRXnbx22n",
        "colab_type": "code",
        "colab": {}
      },
      "source": [
        "Xtest=pd.DataFrame(dt,columns=cols)"
      ],
      "execution_count": 0,
      "outputs": []
    },
    {
      "cell_type": "code",
      "metadata": {
        "id": "71mEBZcYwSF3",
        "colab_type": "code",
        "colab": {}
      },
      "source": [
        "pred=model.predict(Xtest)"
      ],
      "execution_count": 0,
      "outputs": []
    },
    {
      "cell_type": "code",
      "metadata": {
        "id": "xEUhvDgwwshI",
        "colab_type": "code",
        "colab": {}
      },
      "source": [
        "wtf=pred.astype(int)"
      ],
      "execution_count": 0,
      "outputs": []
    },
    {
      "cell_type": "code",
      "metadata": {
        "id": "frU9vWP3w5k2",
        "colab_type": "code",
        "colab": {}
      },
      "source": [
        "sub=pd.read_csv(\"/content/sample_submission_OR5kZa5.csv\")"
      ],
      "execution_count": 0,
      "outputs": []
    },
    {
      "cell_type": "code",
      "metadata": {
        "id": "lzA3xVo-ynNf",
        "colab_type": "code",
        "colab": {}
      },
      "source": [
        "t=pd.read_csv(\"/content/test_8i3B3FC.csv\")"
      ],
      "execution_count": 0,
      "outputs": []
    },
    {
      "cell_type": "code",
      "metadata": {
        "id": "wSKepsmuyQv7",
        "colab_type": "code",
        "colab": {}
      },
      "source": [
        "sub[\"Upvotes\"]=wtf"
      ],
      "execution_count": 0,
      "outputs": []
    },
    {
      "cell_type": "code",
      "metadata": {
        "id": "_YZongN5yRt_",
        "colab_type": "code",
        "colab": {}
      },
      "source": [
        "sub[\"ID\"]=t[\"ID\"]"
      ],
      "execution_count": 0,
      "outputs": []
    },
    {
      "cell_type": "code",
      "metadata": {
        "id": "0VvhMeqWyu5a",
        "colab_type": "code",
        "colab": {
          "base_uri": "https://localhost:8080/",
          "height": 402
        },
        "outputId": "5c1b1ab9-d1b1-4399-fcae-bfdc3dbd553e"
      },
      "source": [
        "sub"
      ],
      "execution_count": 267,
      "outputs": [
        {
          "output_type": "execute_result",
          "data": {
            "text/html": [
              "<div>\n",
              "<style scoped>\n",
              "    .dataframe tbody tr th:only-of-type {\n",
              "        vertical-align: middle;\n",
              "    }\n",
              "\n",
              "    .dataframe tbody tr th {\n",
              "        vertical-align: top;\n",
              "    }\n",
              "\n",
              "    .dataframe thead th {\n",
              "        text-align: right;\n",
              "    }\n",
              "</style>\n",
              "<table border=\"1\" class=\"dataframe\">\n",
              "  <thead>\n",
              "    <tr style=\"text-align: right;\">\n",
              "      <th></th>\n",
              "      <th>ID</th>\n",
              "      <th>Upvotes</th>\n",
              "    </tr>\n",
              "  </thead>\n",
              "  <tbody>\n",
              "    <tr>\n",
              "      <th>0</th>\n",
              "      <td>366953</td>\n",
              "      <td>189</td>\n",
              "    </tr>\n",
              "    <tr>\n",
              "      <th>1</th>\n",
              "      <td>71864</td>\n",
              "      <td>131</td>\n",
              "    </tr>\n",
              "    <tr>\n",
              "      <th>2</th>\n",
              "      <td>141692</td>\n",
              "      <td>1</td>\n",
              "    </tr>\n",
              "    <tr>\n",
              "      <th>3</th>\n",
              "      <td>316833</td>\n",
              "      <td>41</td>\n",
              "    </tr>\n",
              "    <tr>\n",
              "      <th>4</th>\n",
              "      <td>440445</td>\n",
              "      <td>311</td>\n",
              "    </tr>\n",
              "    <tr>\n",
              "      <th>...</th>\n",
              "      <td>...</td>\n",
              "      <td>...</td>\n",
              "    </tr>\n",
              "    <tr>\n",
              "      <th>141443</th>\n",
              "      <td>47187</td>\n",
              "      <td>44</td>\n",
              "    </tr>\n",
              "    <tr>\n",
              "      <th>141444</th>\n",
              "      <td>329126</td>\n",
              "      <td>163</td>\n",
              "    </tr>\n",
              "    <tr>\n",
              "      <th>141445</th>\n",
              "      <td>282334</td>\n",
              "      <td>36</td>\n",
              "    </tr>\n",
              "    <tr>\n",
              "      <th>141446</th>\n",
              "      <td>386629</td>\n",
              "      <td>18</td>\n",
              "    </tr>\n",
              "    <tr>\n",
              "      <th>141447</th>\n",
              "      <td>107271</td>\n",
              "      <td>-7</td>\n",
              "    </tr>\n",
              "  </tbody>\n",
              "</table>\n",
              "<p>141448 rows × 2 columns</p>\n",
              "</div>"
            ],
            "text/plain": [
              "            ID  Upvotes\n",
              "0       366953      189\n",
              "1        71864      131\n",
              "2       141692        1\n",
              "3       316833       41\n",
              "4       440445      311\n",
              "...        ...      ...\n",
              "141443   47187       44\n",
              "141444  329126      163\n",
              "141445  282334       36\n",
              "141446  386629       18\n",
              "141447  107271       -7\n",
              "\n",
              "[141448 rows x 2 columns]"
            ]
          },
          "metadata": {
            "tags": []
          },
          "execution_count": 267
        }
      ]
    },
    {
      "cell_type": "code",
      "metadata": {
        "id": "VEfwiWeyyvqp",
        "colab_type": "code",
        "colab": {}
      },
      "source": [
        "sub.to_csv(\"Linear@@.csv\",index=False)"
      ],
      "execution_count": 0,
      "outputs": []
    },
    {
      "cell_type": "code",
      "metadata": {
        "id": "SwKXu3Fpy_VM",
        "colab_type": "code",
        "colab": {}
      },
      "source": [
        ""
      ],
      "execution_count": 0,
      "outputs": []
    }
  ]
}